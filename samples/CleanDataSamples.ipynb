{
  "nbformat": 4,
  "nbformat_minor": 0,
  "metadata": {
    "colab": {
      "provenance": []
    },
    "kernelspec": {
      "name": "python3",
      "display_name": "Python 3"
    },
    "language_info": {
      "name": "python"
    }
  },
  "cells": [
    {
      "cell_type": "markdown",
      "source": [
        "# Примеры очистки данных"
      ],
      "metadata": {
        "id": "8rVbmb7N_ZS0"
      }
    },
    {
      "cell_type": "markdown",
      "source": [
        "## Удаление ненужных столбцов"
      ],
      "metadata": {
        "id": "jqz52nTu9yHx"
      }
    },
    {
      "cell_type": "code",
      "source": [
        "# Remove column 'column_name' from the DataFrame\n",
        "df = df.drop(columns=['column_name'])"
      ],
      "metadata": {
        "id": "xwlWMElj9zqc"
      },
      "execution_count": null,
      "outputs": []
    },
    {
      "cell_type": "markdown",
      "source": [
        "## Удаление ненужных символов"
      ],
      "metadata": {
        "id": "mk9PP3Um-nJf"
      }
    },
    {
      "cell_type": "code",
      "source": [
        "# Remove special characters from data in column 'column_name'\n",
        "df['column_name'] = df['column_name'].str.replace(r'[^\\w\\s]+', '')\n",
        "\n",
        "# Remove leading and trailing whitespaces from data in column 'column_name'\n",
        "df['column_name'] = df['column_name'].str.strip()"
      ],
      "metadata": {
        "id": "kamIDn5X-lw4"
      },
      "execution_count": null,
      "outputs": []
    },
    {
      "cell_type": "markdown",
      "source": [
        "## Обработка пропущенных значений\n",
        "\n",
        "Удаление пропущенных значений: вы можете использовать этот dropna метод для удаления пропущенных значений из фрейма данных Pandas. Вы можете указать ось (строки или столбцы) и критерии, по которым значение считается отсутствующим."
      ],
      "metadata": {
        "id": "HLz1JGKM8M59"
      }
    },
    {
      "cell_type": "code",
      "execution_count": null,
      "metadata": {
        "id": "RFmEA6iE8JPG"
      },
      "outputs": [],
      "source": [
        "# Drop all rows with missing values\n",
        "df.dropna(inplace=True)"
      ]
    },
    {
      "cell_type": "markdown",
      "source": [
        "Заполнение пропущенных значений: если вы не хотите удалять пропущенные значения, вы можете заполнить их указанным значением или интерполировать их с помощью такого метода, как линейная интерполяция. fillna Для этой цели можно использовать метод."
      ],
      "metadata": {
        "id": "gxOay2UU8NMg"
      }
    },
    {
      "cell_type": "code",
      "source": [
        "# Fill missing values in column 'column_name' with the mean\n",
        "df['column_name'].fillna(df['column_name'].mean(), inplace=True)\n",
        "\n",
        "# Fill missing values in column 'column_name' with the median\n",
        "df['column_name'].fillna(df['column_name'].median(), inplace=True)\n",
        "\n",
        "# Fill missing values in column 'column_name' with the mode\n",
        "df['column_name'].fillna(df['column_name'].mode()[0], inplace=True)\n",
        "\n",
        "# Fill missing values in column 'column_name' with a specific value\n",
        "df['column_name'].fillna(value, inplace=True)"
      ],
      "metadata": {
        "id": "LVd16n4X8Net"
      },
      "execution_count": null,
      "outputs": []
    },
    {
      "cell_type": "markdown",
      "source": [
        "Переименовывать столбцы: С помощью этого метода можно изменить имя одного или нескольких столбцов в фрейме данных Pandas rename."
      ],
      "metadata": {
        "id": "QLDqxFfD8NvY"
      }
    },
    {
      "cell_type": "code",
      "source": [
        "\n",
        "df = pd.DataFrame({'A': [1, 2, 3, 4], 'B': [5, 6, 7, 8]})\n",
        "\n",
        "df = df.rename(columns={'A': 'X', 'B': 'Y'})\n",
        "\n",
        "print(df)"
      ],
      "metadata": {
        "id": "dm3-nhfH8ODV"
      },
      "execution_count": null,
      "outputs": []
    },
    {
      "cell_type": "markdown",
      "source": [
        "## Удаление дубликатов\n",
        "\n",
        "Удаление повторяющихся строк: вы можете использовать этот drop_duplicates метод для удаления повторяющихся строк из фрейма данных."
      ],
      "metadata": {
        "id": "OFUeXISS8snX"
      }
    },
    {
      "cell_type": "code",
      "source": [
        "# Remove duplicates based on all columns\n",
        "df.drop_duplicates(inplace=True)\n",
        "\n",
        "# Remove duplicates based on a specific column\n",
        "df.drop_duplicates(subset='column_name', inplace=True)\n",
        "\n",
        "# Remove duplicates based on specific columns\n",
        "df = df.drop_duplicates(subset=['column_1', 'column_2'])"
      ],
      "metadata": {
        "id": "JzqbkKit8sMe"
      },
      "execution_count": null,
      "outputs": []
    },
    {
      "cell_type": "markdown",
      "source": [
        "## Работа с выбросами\n",
        "\n",
        "Обработка выбросов: выбросы могут оказать существенное влияние на ваш анализ и результаты. Вы можете обрабатывать выбросы, удаляя их или преобразуя с помощью таких методов, как логарифмическое преобразование."
      ],
      "metadata": {
        "id": "z6Dv8fQJ8s9D"
      }
    },
    {
      "cell_type": "code",
      "source": [
        "# Remove outliers based on Z-score\n",
        "z_score = np.abs(stats.zscore(df['column_name']))\n",
        "df = df[z_score < 3]\n",
        "\n",
        "# Remove outliers based on IQR\n",
        "Q1 = df['column_name'].quantile(0.25)\n",
        "Q3 = df['column_name'].quantile(0.75)\n",
        "IQR = Q3 - Q1\n",
        "df = df[~((df['column_name'] < (Q1 - 1.5 * IQR)) | (df['column_name'] > (Q3 + 1.5 * IQR)))]"
      ],
      "metadata": {
        "id": "fJ1RDU5h8xut"
      },
      "execution_count": null,
      "outputs": []
    },
    {
      "cell_type": "markdown",
      "source": [
        "## Преобразование типов данных\n",
        "\n",
        "Преобразование типов данных: с помощью этого метода можно преобразовать данные из одного типа в другой astype. Это полезно, когда вы хотите убедиться, что определенный столбец имеет определенный тип данных, например, для преобразования всех значений в столбце в целые числа."
      ],
      "metadata": {
        "id": "Dbd7-qVD8yEb"
      }
    },
    {
      "cell_type": "code",
      "source": [
        "df = pd.DataFrame({'A': [1, 2, 3, 4], 'B': ['5', '6', '7', '8']})\n",
        "\n",
        "df['B'] = df['B'].astype(int)\n",
        "\n",
        "print(df)"
      ],
      "metadata": {
        "id": "0LpMVU9t80e2"
      },
      "execution_count": null,
      "outputs": []
    },
    {
      "cell_type": "markdown",
      "source": [
        "## Кодирование категориальных данных"
      ],
      "metadata": {
        "id": "bM-ecx92-YVO"
      }
    },
    {
      "cell_type": "code",
      "source": [
        "# Use one-hot encoding to convert categorical data in column 'column_name'\n",
        "df = pd.get_dummies(df, columns=['column_name'])\n",
        "\n",
        "# Use label encoding to convert categorical data in column 'column_name'\n",
        "from sklearn.preprocessing import LabelEncoder\n",
        "le = LabelEncoder()\n",
        "df['column_name'] = le.fit_transform(df['column_name'])"
      ],
      "metadata": {
        "id": "M4Ye9nt3-awd"
      },
      "execution_count": null,
      "outputs": []
    },
    {
      "cell_type": "markdown",
      "source": [
        "## Нормализация числовых данных"
      ],
      "metadata": {
        "id": "6m9q2KKY-c3Z"
      }
    },
    {
      "cell_type": "code",
      "source": [
        "# Normalize data in column 'column_name' using min-max scaling\n",
        "from sklearn.preprocessing import MinMaxScaler\n",
        "scaler = MinMaxScaler()\n",
        "df['column_name'] = scaler.fit_transform(df[['column_name']])\n",
        "\n",
        "# Normalize data in column 'column_name' using Z-score normalization\n",
        "from scipy import stats\n",
        "df['column_name'] = (df['column_name'] - df['column_name'].mean()) / df['column_name'].std()"
      ],
      "metadata": {
        "id": "ecckmr_l-e5y"
      },
      "execution_count": null,
      "outputs": []
    }
  ]
}