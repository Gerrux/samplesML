{
  "nbformat": 4,
  "nbformat_minor": 0,
  "metadata": {
    "colab": {
      "provenance": []
    },
    "kernelspec": {
      "name": "python3",
      "display_name": "Python 3"
    },
    "language_info": {
      "name": "python"
    },
    "accelerator": "GPU",
    "gpuClass": "standard"
  },
  "cells": [
    {
      "cell_type": "code",
      "execution_count": null,
      "metadata": {
        "id": "NADrL95aqzeK"
      },
      "outputs": [],
      "source": [
        "import pandas as pd\n",
        "import numpy as np\n",
        "import matplotlib.pyplot as plt\n",
        "import statistics as st\n",
        "import seaborn as sns\n",
        "import warnings\n",
        "\n",
        "warnings.filterwarnings('ignore')"
      ]
    },
    {
      "cell_type": "code",
      "source": [
        "from google.colab import drive\n",
        "drive.mount('/content/drive')"
      ],
      "metadata": {
        "colab": {
          "base_uri": "https://localhost:8080/"
        },
        "id": "m8t-32EDq11T",
        "outputId": "8ce4614a-3cbe-48c8-acbe-b013a8aaca59"
      },
      "execution_count": null,
      "outputs": [
        {
          "output_type": "stream",
          "name": "stdout",
          "text": [
            "Mounted at /content/drive\n"
          ]
        }
      ]
    },
    {
      "cell_type": "code",
      "source": [
        "folder = 'drive/MyDrive/data/'\n",
        "\n",
        "df_cet = pd.read_csv(folder+'curriculum_education_test.csv', sep=';') #нет пропусков\n",
        "df_eg = pd.read_csv(folder+'education_group.csv', sep=';')#first_lesson_start_at  \n",
        "df_et = pd.read_csv(folder+'education_test.csv', sep=';')\n",
        "df_lesson = pd.read_csv(folder+'lesson.csv', sep=';')\n",
        "df_la = pd.read_csv(folder+'lesson_attendance.csv', sep=';')\n",
        "df_lc = pd.read_csv(folder+'lesson_curriculum.csv', sep=';')\n",
        "df_str = pd.read_csv(folder+'student_test_result.csv', sep=';')\n",
        "df_ui = pd.read_csv(folder+'user_info.csv', sep=';')"
      ],
      "metadata": {
        "id": "FoCyfLyIq4D6"
      },
      "execution_count": null,
      "outputs": []
    },
    {
      "cell_type": "code",
      "source": [
        "df_et.info()"
      ],
      "metadata": {
        "colab": {
          "base_uri": "https://localhost:8080/"
        },
        "id": "G9EsotZXwPPW",
        "outputId": "8668296c-d73d-40e5-8a0e-a53d12a33516"
      },
      "execution_count": null,
      "outputs": [
        {
          "output_type": "stream",
          "name": "stdout",
          "text": [
            "<class 'pandas.core.frame.DataFrame'>\n",
            "RangeIndex: 28280 entries, 0 to 28279\n",
            "Data columns (total 3 columns):\n",
            " #   Column  Non-Null Count  Dtype \n",
            "---  ------  --------------  ----- \n",
            " 0   id      28280 non-null  int64 \n",
            " 1   title   28280 non-null  object\n",
            " 2   type    28280 non-null  object\n",
            "dtypes: int64(1), object(2)\n",
            "memory usage: 662.9+ KB\n"
          ]
        }
      ]
    },
    {
      "cell_type": "code",
      "source": [
        "df_ui.churn.value_counts().plot.bar()"
      ],
      "metadata": {
        "colab": {
          "base_uri": "https://localhost:8080/",
          "height": 298
        },
        "id": "TxjiNbJDxNlR",
        "outputId": "a788f2e6-4e4c-4422-b7ee-9daff1225084"
      },
      "execution_count": null,
      "outputs": [
        {
          "output_type": "execute_result",
          "data": {
            "text/plain": [
              "<matplotlib.axes._subplots.AxesSubplot at 0x7f8e0eb75310>"
            ]
          },
          "metadata": {},
          "execution_count": 17
        },
        {
          "output_type": "display_data",
          "data": {
            "text/plain": [
              "<Figure size 432x288 with 1 Axes>"
            ],
            "image/png": "[encoded data removed]"
          },
          "metadata": {
            "needs_background": "light"
          }
        }
      ]
    },
    {
      "cell_type": "code",
      "source": [
        "df_ui.churn.value_counts()"
      ],
      "metadata": {
        "colab": {
          "base_uri": "https://localhost:8080/"
        },
        "id": "BIFoYRsG5WEV",
        "outputId": "e305a6a1-79fb-41ab-907b-4ca93d9b7de0"
      },
      "execution_count": null,
      "outputs": [
        {
          "output_type": "execute_result",
          "data": {
            "text/plain": [
              "False    11840\n",
              "True      1685\n",
              "Name: churn, dtype: int64"
            ]
          },
          "metadata": {},
          "execution_count": 18
        }
      ]
    },
    {
      "cell_type": "code",
      "source": [
        "df_la.head()"
      ],
      "metadata": {
        "colab": {
          "base_uri": "https://localhost:8080/",
          "height": 206
        },
        "id": "iyBjcZSb77DK",
        "outputId": "e3eea718-a58e-4022-a093-572f90747bf0"
      },
      "execution_count": null,
      "outputs": [
        {
          "output_type": "execute_result",
          "data": {
            "text/plain": [
              "   student_user_id  lesson_id           created_at           updated_at  \\\n",
              "0           172538    1022156  2022-04-06 17:26:15  2022-05-14 19:31:08   \n",
              "1           132935    1022156  2022-04-06 17:26:15  2022-04-06 17:26:15   \n",
              "2           300631    1022156  2022-04-06 17:26:15  2022-04-06 17:26:15   \n",
              "3           167496    1022156  2022-04-06 17:26:15  2022-04-06 17:26:15   \n",
              "4           313742    1022156  2022-04-06 17:26:15  2022-04-06 17:26:15   \n",
              "\n",
              "      type  \n",
              "0  offline  \n",
              "1   missed  \n",
              "2   missed  \n",
              "3   missed  \n",
              "4   missed  "
            ],
            "text/html": [
              "\n",
              "  <div id=\"df-9f17aa0a-1fb7-4cc3-976c-5fcafc2f70be\">\n",
              "    <div class=\"colab-df-container\">\n",
              "      <div>\n",
              "<style scoped>\n",
              "    .dataframe tbody tr th:only-of-type {\n",
              "        vertical-align: middle;\n",
              "    }\n",
              "\n",
              "    .dataframe tbody tr th {\n",
              "        vertical-align: top;\n",
              "    }\n",
              "\n",
              "    .dataframe thead th {\n",
              "        text-align: right;\n",
              "    }\n",
              "</style>\n",
              "<table border=\"1\" class=\"dataframe\">\n",
              "  <thead>\n",
              "    <tr style=\"text-align: right;\">\n",
              "      <th></th>\n",
              "      <th>student_user_id</th>\n",
              "      <th>lesson_id</th>\n",
              "      <th>created_at</th>\n",
              "      <th>updated_at</th>\n",
              "      <th>type</th>\n",
              "    </tr>\n",
              "  </thead>\n",
              "  <tbody>\n",
              "    <tr>\n",
              "      <th>0</th>\n",
              "      <td>172538</td>\n",
              "      <td>1022156</td>\n",
              "      <td>2022-04-06 17:26:15</td>\n",
              "      <td>2022-05-14 19:31:08</td>\n",
              "      <td>offline</td>\n",
              "    </tr>\n",
              "    <tr>\n",
              "      <th>1</th>\n",
              "      <td>132935</td>\n",
              "      <td>1022156</td>\n",
              "      <td>2022-04-06 17:26:15</td>\n",
              "      <td>2022-04-06 17:26:15</td>\n",
              "      <td>missed</td>\n",
              "    </tr>\n",
              "    <tr>\n",
              "      <th>2</th>\n",
              "      <td>300631</td>\n",
              "      <td>1022156</td>\n",
              "      <td>2022-04-06 17:26:15</td>\n",
              "      <td>2022-04-06 17:26:15</td>\n",
              "      <td>missed</td>\n",
              "    </tr>\n",
              "    <tr>\n",
              "      <th>3</th>\n",
              "      <td>167496</td>\n",
              "      <td>1022156</td>\n",
              "      <td>2022-04-06 17:26:15</td>\n",
              "      <td>2022-04-06 17:26:15</td>\n",
              "      <td>missed</td>\n",
              "    </tr>\n",
              "    <tr>\n",
              "      <th>4</th>\n",
              "      <td>313742</td>\n",
              "      <td>1022156</td>\n",
              "      <td>2022-04-06 17:26:15</td>\n",
              "      <td>2022-04-06 17:26:15</td>\n",
              "      <td>missed</td>\n",
              "    </tr>\n",
              "  </tbody>\n",
              "</table>\n",
              "</div>\n",
              "      <button class=\"colab-df-convert\" onclick=\"convertToInteractive('df-9f17aa0a-1fb7-4cc3-976c-5fcafc2f70be')\"\n",
              "              title=\"Convert this dataframe to an interactive table.\"\n",
              "              style=\"display:none;\">\n",
              "        \n",
              "  <svg xmlns=\"http://www.w3.org/2000/svg\" height=\"24px\"viewBox=\"0 0 24 24\"\n",
              "       width=\"24px\">\n",
              "    <path d=\"M0 0h24v24H0V0z\" fill=\"none\"/>\n",
              "    <path d=\"M18.56 5.44l.94 2.06.94-2.06 2.06-.94-2.06-.94-.94-2.06-.94 2.06-2.06.94zm-11 1L8.5 8.5l.94-2.06 2.06-.94-2.06-.94L8.5 2.5l-.94 2.06-2.06.94zm10 10l.94 2.06.94-2.06 2.06-.94-2.06-.94-.94-2.06-.94 2.06-2.06.94z\"/><path d=\"M17.41 7.96l-1.37-1.37c-.4-.4-.92-.59-1.43-.59-.52 0-1.04.2-1.43.59L10.3 9.45l-7.72 7.72c-.78.78-.78 2.05 0 2.83L4 21.41c.39.39.9.59 1.41.59.51 0 1.02-.2 1.41-.59l7.78-7.78 2.81-2.81c.8-.78.8-2.07 0-2.86zM5.41 20L4 18.59l7.72-7.72 1.47 1.35L5.41 20z\"/>\n",
              "  </svg>\n",
              "      </button>\n",
              "      \n",
              "  <style>\n",
              "    .colab-df-container {\n",
              "      display:flex;\n",
              "      flex-wrap:wrap;\n",
              "      gap: 12px;\n",
              "    }\n",
              "\n",
              "    .colab-df-convert {\n",
              "      background-color: #E8F0FE;\n",
              "      border: none;\n",
              "      border-radius: 50%;\n",
              "      cursor: pointer;\n",
              "      display: none;\n",
              "      fill: #1967D2;\n",
              "      height: 32px;\n",
              "      padding: 0 0 0 0;\n",
              "      width: 32px;\n",
              "    }\n",
              "\n",
              "    .colab-df-convert:hover {\n",
              "      background-color: #E2EBFA;\n",
              "      box-shadow: 0px 1px 2px rgba(60, 64, 67, 0.3), 0px 1px 3px 1px rgba(60, 64, 67, 0.15);\n",
              "      fill: #174EA6;\n",
              "    }\n",
              "\n",
              "    [theme=dark] .colab-df-convert {\n",
              "      background-color: #3B4455;\n",
              "      fill: #D2E3FC;\n",
              "    }\n",
              "\n",
              "    [theme=dark] .colab-df-convert:hover {\n",
              "      background-color: #434B5C;\n",
              "      box-shadow: 0px 1px 3px 1px rgba(0, 0, 0, 0.15);\n",
              "      filter: drop-shadow(0px 1px 2px rgba(0, 0, 0, 0.3));\n",
              "      fill: #FFFFFF;\n",
              "    }\n",
              "  </style>\n",
              "\n",
              "      <script>\n",
              "        const buttonEl =\n",
              "          document.querySelector('#df-9f17aa0a-1fb7-4cc3-976c-5fcafc2f70be button.colab-df-convert');\n",
              "        buttonEl.style.display =\n",
              "          google.colab.kernel.accessAllowed ? 'block' : 'none';\n",
              "\n",
              "        async function convertToInteractive(key) {\n",
              "          const element = document.querySelector('#df-9f17aa0a-1fb7-4cc3-976c-5fcafc2f70be');\n",
              "          const dataTable =\n",
              "            await google.colab.kernel.invokeFunction('convertToInteractive',\n",
              "                                                     [key], {});\n",
              "          if (!dataTable) return;\n",
              "\n",
              "          const docLinkHtml = 'Like what you see? Visit the ' +\n",
              "            '<a target=\"_blank\" href=https://colab.research.google.com/notebooks/data_table.ipynb>data table notebook</a>'\n",
              "            + ' to learn more about interactive tables.';\n",
              "          element.innerHTML = '';\n",
              "          dataTable['output_type'] = 'display_data';\n",
              "          await google.colab.output.renderOutput(dataTable, element);\n",
              "          const docLink = document.createElement('div');\n",
              "          docLink.innerHTML = docLinkHtml;\n",
              "          element.appendChild(docLink);\n",
              "        }\n",
              "      </script>\n",
              "    </div>\n",
              "  </div>\n",
              "  "
            ]
          },
          "metadata": {},
          "execution_count": 4
        }
      ]
    },
    {
      "cell_type": "markdown",
      "source": [
        "##смотрим дисбаланс классов"
      ],
      "metadata": {
        "id": "VE78ZshUPDFC"
      }
    },
    {
      "cell_type": "code",
      "source": [
        "df_ui_1 = pd.read_csv('user_info.csv', sep=',')\n",
        "df_ui_1.head()"
      ],
      "metadata": {
        "colab": {
          "base_uri": "https://localhost:8080/",
          "height": 206
        },
        "id": "baq1DwhkFqpr",
        "outputId": "395792f9-7ebc-4f40-896e-bff332fa97e3"
      },
      "execution_count": null,
      "outputs": [
        {
          "output_type": "execute_result",
          "data": {
            "text/plain": [
              "   Unnamed: 0  education_group_id  user_id        contract_date  churn  \\\n",
              "0           0               27315   925873  2021-11-24 16:53:05      0   \n",
              "1           1               27315   925873  2021-11-24 16:53:05      0   \n",
              "2           2               27315   925873  2021-11-24 16:53:05      0   \n",
              "3           3               27315   925873  2021-11-24 16:53:05      0   \n",
              "4           4               27315   925873  2021-11-24 16:53:05      0   \n",
              "\n",
              "   AVGNTOTT  NUMOT  spent_time  \n",
              "0   23.6875   64.0   44.390625  \n",
              "1   23.6875   64.0   44.390625  \n",
              "2   23.6875   64.0   44.390625  \n",
              "3   23.6875   64.0   44.390625  \n",
              "4   23.6875   64.0   44.390625  "
            ],
            "text/html": [
              "\n",
              "  <div id=\"df-7c681a47-a782-4b91-8fe3-a0971a53c87f\">\n",
              "    <div class=\"colab-df-container\">\n",
              "      <div>\n",
              "<style scoped>\n",
              "    .dataframe tbody tr th:only-of-type {\n",
              "        vertical-align: middle;\n",
              "    }\n",
              "\n",
              "    .dataframe tbody tr th {\n",
              "        vertical-align: top;\n",
              "    }\n",
              "\n",
              "    .dataframe thead th {\n",
              "        text-align: right;\n",
              "    }\n",
              "</style>\n",
              "<table border=\"1\" class=\"dataframe\">\n",
              "  <thead>\n",
              "    <tr style=\"text-align: right;\">\n",
              "      <th></th>\n",
              "      <th>Unnamed: 0</th>\n",
              "      <th>education_group_id</th>\n",
              "      <th>user_id</th>\n",
              "      <th>contract_date</th>\n",
              "      <th>churn</th>\n",
              "      <th>AVGNTOTT</th>\n",
              "      <th>NUMOT</th>\n",
              "      <th>spent_time</th>\n",
              "    </tr>\n",
              "  </thead>\n",
              "  <tbody>\n",
              "    <tr>\n",
              "      <th>0</th>\n",
              "      <td>0</td>\n",
              "      <td>27315</td>\n",
              "      <td>925873</td>\n",
              "      <td>2021-11-24 16:53:05</td>\n",
              "      <td>0</td>\n",
              "      <td>23.6875</td>\n",
              "      <td>64.0</td>\n",
              "      <td>44.390625</td>\n",
              "    </tr>\n",
              "    <tr>\n",
              "      <th>1</th>\n",
              "      <td>1</td>\n",
              "      <td>27315</td>\n",
              "      <td>925873</td>\n",
              "      <td>2021-11-24 16:53:05</td>\n",
              "      <td>0</td>\n",
              "      <td>23.6875</td>\n",
              "      <td>64.0</td>\n",
              "      <td>44.390625</td>\n",
              "    </tr>\n",
              "    <tr>\n",
              "      <th>2</th>\n",
              "      <td>2</td>\n",
              "      <td>27315</td>\n",
              "      <td>925873</td>\n",
              "      <td>2021-11-24 16:53:05</td>\n",
              "      <td>0</td>\n",
              "      <td>23.6875</td>\n",
              "      <td>64.0</td>\n",
              "      <td>44.390625</td>\n",
              "    </tr>\n",
              "    <tr>\n",
              "      <th>3</th>\n",
              "      <td>3</td>\n",
              "      <td>27315</td>\n",
              "      <td>925873</td>\n",
              "      <td>2021-11-24 16:53:05</td>\n",
              "      <td>0</td>\n",
              "      <td>23.6875</td>\n",
              "      <td>64.0</td>\n",
              "      <td>44.390625</td>\n",
              "    </tr>\n",
              "    <tr>\n",
              "      <th>4</th>\n",
              "      <td>4</td>\n",
              "      <td>27315</td>\n",
              "      <td>925873</td>\n",
              "      <td>2021-11-24 16:53:05</td>\n",
              "      <td>0</td>\n",
              "      <td>23.6875</td>\n",
              "      <td>64.0</td>\n",
              "      <td>44.390625</td>\n",
              "    </tr>\n",
              "  </tbody>\n",
              "</table>\n",
              "</div>\n",
              "      <button class=\"colab-df-convert\" onclick=\"convertToInteractive('df-7c681a47-a782-4b91-8fe3-a0971a53c87f')\"\n",
              "              title=\"Convert this dataframe to an interactive table.\"\n",
              "              style=\"display:none;\">\n",
              "        \n",
              "  <svg xmlns=\"http://www.w3.org/2000/svg\" height=\"24px\"viewBox=\"0 0 24 24\"\n",
              "       width=\"24px\">\n",
              "    <path d=\"M0 0h24v24H0V0z\" fill=\"none\"/>\n",
              "    <path d=\"M18.56 5.44l.94 2.06.94-2.06 2.06-.94-2.06-.94-.94-2.06-.94 2.06-2.06.94zm-11 1L8.5 8.5l.94-2.06 2.06-.94-2.06-.94L8.5 2.5l-.94 2.06-2.06.94zm10 10l.94 2.06.94-2.06 2.06-.94-2.06-.94-.94-2.06-.94 2.06-2.06.94z\"/><path d=\"M17.41 7.96l-1.37-1.37c-.4-.4-.92-.59-1.43-.59-.52 0-1.04.2-1.43.59L10.3 9.45l-7.72 7.72c-.78.78-.78 2.05 0 2.83L4 21.41c.39.39.9.59 1.41.59.51 0 1.02-.2 1.41-.59l7.78-7.78 2.81-2.81c.8-.78.8-2.07 0-2.86zM5.41 20L4 18.59l7.72-7.72 1.47 1.35L5.41 20z\"/>\n",
              "  </svg>\n",
              "      </button>\n",
              "      \n",
              "  <style>\n",
              "    .colab-df-container {\n",
              "      display:flex;\n",
              "      flex-wrap:wrap;\n",
              "      gap: 12px;\n",
              "    }\n",
              "\n",
              "    .colab-df-convert {\n",
              "      background-color: #E8F0FE;\n",
              "      border: none;\n",
              "      border-radius: 50%;\n",
              "      cursor: pointer;\n",
              "      display: none;\n",
              "      fill: #1967D2;\n",
              "      height: 32px;\n",
              "      padding: 0 0 0 0;\n",
              "      width: 32px;\n",
              "    }\n",
              "\n",
              "    .colab-df-convert:hover {\n",
              "      background-color: #E2EBFA;\n",
              "      box-shadow: 0px 1px 2px rgba(60, 64, 67, 0.3), 0px 1px 3px 1px rgba(60, 64, 67, 0.15);\n",
              "      fill: #174EA6;\n",
              "    }\n",
              "\n",
              "    [theme=dark] .colab-df-convert {\n",
              "      background-color: #3B4455;\n",
              "      fill: #D2E3FC;\n",
              "    }\n",
              "\n",
              "    [theme=dark] .colab-df-convert:hover {\n",
              "      background-color: #434B5C;\n",
              "      box-shadow: 0px 1px 3px 1px rgba(0, 0, 0, 0.15);\n",
              "      filter: drop-shadow(0px 1px 2px rgba(0, 0, 0, 0.3));\n",
              "      fill: #FFFFFF;\n",
              "    }\n",
              "  </style>\n",
              "\n",
              "      <script>\n",
              "        const buttonEl =\n",
              "          document.querySelector('#df-7c681a47-a782-4b91-8fe3-a0971a53c87f button.colab-df-convert');\n",
              "        buttonEl.style.display =\n",
              "          google.colab.kernel.accessAllowed ? 'block' : 'none';\n",
              "\n",
              "        async function convertToInteractive(key) {\n",
              "          const element = document.querySelector('#df-7c681a47-a782-4b91-8fe3-a0971a53c87f');\n",
              "          const dataTable =\n",
              "            await google.colab.kernel.invokeFunction('convertToInteractive',\n",
              "                                                     [key], {});\n",
              "          if (!dataTable) return;\n",
              "\n",
              "          const docLinkHtml = 'Like what you see? Visit the ' +\n",
              "            '<a target=\"_blank\" href=https://colab.research.google.com/notebooks/data_table.ipynb>data table notebook</a>'\n",
              "            + ' to learn more about interactive tables.';\n",
              "          element.innerHTML = '';\n",
              "          dataTable['output_type'] = 'display_data';\n",
              "          await google.colab.output.renderOutput(dataTable, element);\n",
              "          const docLink = document.createElement('div');\n",
              "          docLink.innerHTML = docLinkHtml;\n",
              "          element.appendChild(docLink);\n",
              "        }\n",
              "      </script>\n",
              "    </div>\n",
              "  </div>\n",
              "  "
            ]
          },
          "metadata": {},
          "execution_count": 6
        }
      ]
    },
    {
      "cell_type": "code",
      "source": [
        "df_ui=df_ui_1[['churn','AVGNTOTT','NUMOT','spent_time']]\n",
        "df_ui"
      ],
      "metadata": {
        "colab": {
          "base_uri": "https://localhost:8080/",
          "height": 423
        },
        "id": "y3REpisYGT4Q",
        "outputId": "94c7a3af-0d01-4d8d-e8dc-3e0db5e420f1"
      },
      "execution_count": null,
      "outputs": [
        {
          "output_type": "execute_result",
          "data": {
            "text/plain": [
              "        churn   AVGNTOTT  NUMOT  spent_time\n",
              "0           0  23.687500   64.0   44.390625\n",
              "1           0  23.687500   64.0   44.390625\n",
              "2           0  23.687500   64.0   44.390625\n",
              "3           0  23.687500   64.0   44.390625\n",
              "4           0  23.687500   64.0   44.390625\n",
              "...       ...        ...    ...         ...\n",
              "521879      0   1.904762   42.0   55.922360\n",
              "521880      0   1.904762   42.0   55.922360\n",
              "521881      0   1.904762   42.0   55.922360\n",
              "521882      0   1.904762   42.0   55.922360\n",
              "521883      0   1.904762   42.0   55.922360\n",
              "\n",
              "[521884 rows x 4 columns]"
            ],
            "text/html": [
              "\n",
              "  <div id=\"df-a4ee4702-2201-4432-ae17-6a6f3d6394e1\">\n",
              "    <div class=\"colab-df-container\">\n",
              "      <div>\n",
              "<style scoped>\n",
              "    .dataframe tbody tr th:only-of-type {\n",
              "        vertical-align: middle;\n",
              "    }\n",
              "\n",
              "    .dataframe tbody tr th {\n",
              "        vertical-align: top;\n",
              "    }\n",
              "\n",
              "    .dataframe thead th {\n",
              "        text-align: right;\n",
              "    }\n",
              "</style>\n",
              "<table border=\"1\" class=\"dataframe\">\n",
              "  <thead>\n",
              "    <tr style=\"text-align: right;\">\n",
              "      <th></th>\n",
              "      <th>churn</th>\n",
              "      <th>AVGNTOTT</th>\n",
              "      <th>NUMOT</th>\n",
              "      <th>spent_time</th>\n",
              "    </tr>\n",
              "  </thead>\n",
              "  <tbody>\n",
              "    <tr>\n",
              "      <th>0</th>\n",
              "      <td>0</td>\n",
              "      <td>23.687500</td>\n",
              "      <td>64.0</td>\n",
              "      <td>44.390625</td>\n",
              "    </tr>\n",
              "    <tr>\n",
              "      <th>1</th>\n",
              "      <td>0</td>\n",
              "      <td>23.687500</td>\n",
              "      <td>64.0</td>\n",
              "      <td>44.390625</td>\n",
              "    </tr>\n",
              "    <tr>\n",
              "      <th>2</th>\n",
              "      <td>0</td>\n",
              "      <td>23.687500</td>\n",
              "      <td>64.0</td>\n",
              "      <td>44.390625</td>\n",
              "    </tr>\n",
              "    <tr>\n",
              "      <th>3</th>\n",
              "      <td>0</td>\n",
              "      <td>23.687500</td>\n",
              "      <td>64.0</td>\n",
              "      <td>44.390625</td>\n",
              "    </tr>\n",
              "    <tr>\n",
              "      <th>4</th>\n",
              "      <td>0</td>\n",
              "      <td>23.687500</td>\n",
              "      <td>64.0</td>\n",
              "      <td>44.390625</td>\n",
              "    </tr>\n",
              "    <tr>\n",
              "      <th>...</th>\n",
              "      <td>...</td>\n",
              "      <td>...</td>\n",
              "      <td>...</td>\n",
              "      <td>...</td>\n",
              "    </tr>\n",
              "    <tr>\n",
              "      <th>521879</th>\n",
              "      <td>0</td>\n",
              "      <td>1.904762</td>\n",
              "      <td>42.0</td>\n",
              "      <td>55.922360</td>\n",
              "    </tr>\n",
              "    <tr>\n",
              "      <th>521880</th>\n",
              "      <td>0</td>\n",
              "      <td>1.904762</td>\n",
              "      <td>42.0</td>\n",
              "      <td>55.922360</td>\n",
              "    </tr>\n",
              "    <tr>\n",
              "      <th>521881</th>\n",
              "      <td>0</td>\n",
              "      <td>1.904762</td>\n",
              "      <td>42.0</td>\n",
              "      <td>55.922360</td>\n",
              "    </tr>\n",
              "    <tr>\n",
              "      <th>521882</th>\n",
              "      <td>0</td>\n",
              "      <td>1.904762</td>\n",
              "      <td>42.0</td>\n",
              "      <td>55.922360</td>\n",
              "    </tr>\n",
              "    <tr>\n",
              "      <th>521883</th>\n",
              "      <td>0</td>\n",
              "      <td>1.904762</td>\n",
              "      <td>42.0</td>\n",
              "      <td>55.922360</td>\n",
              "    </tr>\n",
              "  </tbody>\n",
              "</table>\n",
              "<p>521884 rows × 4 columns</p>\n",
              "</div>\n",
              "      <button class=\"colab-df-convert\" onclick=\"convertToInteractive('df-a4ee4702-2201-4432-ae17-6a6f3d6394e1')\"\n",
              "              title=\"Convert this dataframe to an interactive table.\"\n",
              "              style=\"display:none;\">\n",
              "        \n",
              "  <svg xmlns=\"http://www.w3.org/2000/svg\" height=\"24px\"viewBox=\"0 0 24 24\"\n",
              "       width=\"24px\">\n",
              "    <path d=\"M0 0h24v24H0V0z\" fill=\"none\"/>\n",
              "    <path d=\"M18.56 5.44l.94 2.06.94-2.06 2.06-.94-2.06-.94-.94-2.06-.94 2.06-2.06.94zm-11 1L8.5 8.5l.94-2.06 2.06-.94-2.06-.94L8.5 2.5l-.94 2.06-2.06.94zm10 10l.94 2.06.94-2.06 2.06-.94-2.06-.94-.94-2.06-.94 2.06-2.06.94z\"/><path d=\"M17.41 7.96l-1.37-1.37c-.4-.4-.92-.59-1.43-.59-.52 0-1.04.2-1.43.59L10.3 9.45l-7.72 7.72c-.78.78-.78 2.05 0 2.83L4 21.41c.39.39.9.59 1.41.59.51 0 1.02-.2 1.41-.59l7.78-7.78 2.81-2.81c.8-.78.8-2.07 0-2.86zM5.41 20L4 18.59l7.72-7.72 1.47 1.35L5.41 20z\"/>\n",
              "  </svg>\n",
              "      </button>\n",
              "      \n",
              "  <style>\n",
              "    .colab-df-container {\n",
              "      display:flex;\n",
              "      flex-wrap:wrap;\n",
              "      gap: 12px;\n",
              "    }\n",
              "\n",
              "    .colab-df-convert {\n",
              "      background-color: #E8F0FE;\n",
              "      border: none;\n",
              "      border-radius: 50%;\n",
              "      cursor: pointer;\n",
              "      display: none;\n",
              "      fill: #1967D2;\n",
              "      height: 32px;\n",
              "      padding: 0 0 0 0;\n",
              "      width: 32px;\n",
              "    }\n",
              "\n",
              "    .colab-df-convert:hover {\n",
              "      background-color: #E2EBFA;\n",
              "      box-shadow: 0px 1px 2px rgba(60, 64, 67, 0.3), 0px 1px 3px 1px rgba(60, 64, 67, 0.15);\n",
              "      fill: #174EA6;\n",
              "    }\n",
              "\n",
              "    [theme=dark] .colab-df-convert {\n",
              "      background-color: #3B4455;\n",
              "      fill: #D2E3FC;\n",
              "    }\n",
              "\n",
              "    [theme=dark] .colab-df-convert:hover {\n",
              "      background-color: #434B5C;\n",
              "      box-shadow: 0px 1px 3px 1px rgba(0, 0, 0, 0.15);\n",
              "      filter: drop-shadow(0px 1px 2px rgba(0, 0, 0, 0.3));\n",
              "      fill: #FFFFFF;\n",
              "    }\n",
              "  </style>\n",
              "\n",
              "      <script>\n",
              "        const buttonEl =\n",
              "          document.querySelector('#df-a4ee4702-2201-4432-ae17-6a6f3d6394e1 button.colab-df-convert');\n",
              "        buttonEl.style.display =\n",
              "          google.colab.kernel.accessAllowed ? 'block' : 'none';\n",
              "\n",
              "        async function convertToInteractive(key) {\n",
              "          const element = document.querySelector('#df-a4ee4702-2201-4432-ae17-6a6f3d6394e1');\n",
              "          const dataTable =\n",
              "            await google.colab.kernel.invokeFunction('convertToInteractive',\n",
              "                                                     [key], {});\n",
              "          if (!dataTable) return;\n",
              "\n",
              "          const docLinkHtml = 'Like what you see? Visit the ' +\n",
              "            '<a target=\"_blank\" href=https://colab.research.google.com/notebooks/data_table.ipynb>data table notebook</a>'\n",
              "            + ' to learn more about interactive tables.';\n",
              "          element.innerHTML = '';\n",
              "          dataTable['output_type'] = 'display_data';\n",
              "          await google.colab.output.renderOutput(dataTable, element);\n",
              "          const docLink = document.createElement('div');\n",
              "          docLink.innerHTML = docLinkHtml;\n",
              "          element.appendChild(docLink);\n",
              "        }\n",
              "      </script>\n",
              "    </div>\n",
              "  </div>\n",
              "  "
            ]
          },
          "metadata": {},
          "execution_count": 8
        }
      ]
    },
    {
      "cell_type": "code",
      "source": [
        "df_ui['churn'].value_counts()"
      ],
      "metadata": {
        "id": "L4mjVG7mRriV",
        "colab": {
          "base_uri": "https://localhost:8080/"
        },
        "outputId": "765cdd86-8199-4662-8912-2202af98ef3e"
      },
      "execution_count": null,
      "outputs": [
        {
          "output_type": "execute_result",
          "data": {
            "text/plain": [
              "0    458597\n",
              "1     63287\n",
              "Name: churn, dtype: int64"
            ]
          },
          "metadata": {},
          "execution_count": 9
        }
      ]
    },
    {
      "cell_type": "code",
      "source": [
        "sns.set(style=\"white\")\n",
        "sns.set(style=\"whitegrid\", color_codes=True)\n",
        "y_data = pd.DataFrame(df_ui['churn'])\n",
        "sns.countplot(x='churn', data=y_data, palette='hls')\n",
        "plt.show()"
      ],
      "metadata": {
        "id": "xLhaONgjRvZG",
        "colab": {
          "base_uri": "https://localhost:8080/",
          "height": 285
        },
        "outputId": "c754f599-16df-4f5e-91dd-5e0bba94d47d"
      },
      "execution_count": null,
      "outputs": [
        {
          "output_type": "display_data",
          "data": {
            "text/plain": [
              "<Figure size 432x288 with 1 Axes>"
            ],
            "image/png": "[encoded data removed]"
          },
          "metadata": {}
        }
      ]
    },
    {
      "cell_type": "code",
      "source": [
        "dfX = df_ui.drop(['churn'],axis=1)\n",
        "dfy = df_ui['churn']"
      ],
      "metadata": {
        "id": "iCXYC2ZUQ2TF"
      },
      "execution_count": null,
      "outputs": []
    },
    {
      "cell_type": "markdown",
      "source": [
        "балансировка классов методом SMOTE"
      ],
      "metadata": {
        "id": "FhB0eN_PSt05"
      }
    },
    {
      "cell_type": "code",
      "source": [
        "from imblearn.over_sampling import SMOTE\n",
        "\n",
        "os = SMOTE(random_state=0, k_neighbors=10)\n",
        "\n",
        "column = dfX.columns\n",
        "\n",
        "print(\"До балансировки данных\")\n",
        "print(dfX.shape)\n",
        "print(dfy.value_counts())\n",
        "\n",
        "os_data_X, os_data_y = os.fit_resample(dfX, dfy)\n",
        "os_data_X = pd.DataFrame(data=os_data_X, columns=column)\n",
        "os_data_y = pd.DataFrame(data=os_data_y, columns=['churn'])\n",
        "\n",
        "print(\"После балансировки\")\n",
        "print(os_data_X.shape)\n",
        "print(os_data_y.value_counts())"
      ],
      "metadata": {
        "id": "2rOOM2XtSAqB",
        "colab": {
          "base_uri": "https://localhost:8080/"
        },
        "outputId": "c4ede718-1198-4323-9ebf-8ee241dfca2a"
      },
      "execution_count": null,
      "outputs": [
        {
          "output_type": "stream",
          "name": "stdout",
          "text": [
            "До балансировки данных\n",
            "(521884, 3)\n",
            "0    458597\n",
            "1     63287\n",
            "Name: churn, dtype: int64\n",
            "После балансировки\n",
            "(917194, 3)\n",
            "churn\n",
            "0        458597\n",
            "1        458597\n",
            "dtype: int64\n"
          ]
        }
      ]
    },
    {
      "cell_type": "markdown",
      "source": [
        "##разделение выборки на обучающую и тестовую"
      ],
      "metadata": {
        "id": "QU9CoR_8S5rH"
      }
    },
    {
      "cell_type": "code",
      "source": [
        "from sklearn.model_selection import train_test_split, GridSearchCV"
      ],
      "metadata": {
        "id": "4lh_Su4LPDVt"
      },
      "execution_count": null,
      "outputs": []
    },
    {
      "cell_type": "code",
      "source": [
        "from sklearn.model_selection import train_test_split\n",
        "X_train,X_test,y_train,y_test = train_test_split(os_data_X,os_data_y,test_size=0.2, stratify=os_data_y, random_state=1)\n",
        "\n",
        "print('Обучающий набор:')\n",
        "print(y_train.value_counts())\n",
        "print('Тестовый набор:')\n",
        "print(y_test.value_counts())"
      ],
      "metadata": {
        "id": "kYs1gX3ZPO1l",
        "colab": {
          "base_uri": "https://localhost:8080/"
        },
        "outputId": "6f8c907a-1e72-440e-d62c-188842fffa99"
      },
      "execution_count": null,
      "outputs": [
        {
          "output_type": "stream",
          "name": "stdout",
          "text": [
            "Обучающий набор:\n",
            "churn\n",
            "0        366878\n",
            "1        366877\n",
            "dtype: int64\n",
            "Тестовый набор:\n",
            "churn\n",
            "1        91720\n",
            "0        91719\n",
            "dtype: int64\n"
          ]
        }
      ]
    },
    {
      "cell_type": "markdown",
      "source": [
        "##Обучаем модель дерево решений"
      ],
      "metadata": {
        "id": "a8hBEd-HUUIi"
      }
    },
    {
      "cell_type": "code",
      "source": [
        "from sklearn import tree\n",
        "from sklearn.tree import DecisionTreeClassifier\n",
        "treeModel = DecisionTreeClassifier(criterion='entropy', max_depth=15, \n",
        "                                   min_samples_split=8, random_state=1)\n",
        "treeModel.fit(X_train,y_train)"
      ],
      "metadata": {
        "id": "-uFX2g1TTUwp",
        "colab": {
          "base_uri": "https://localhost:8080/"
        },
        "outputId": "43d0ed22-f643-456e-e571-4228f2e14e1c"
      },
      "execution_count": null,
      "outputs": [
        {
          "output_type": "execute_result",
          "data": {
            "text/plain": [
              "DecisionTreeClassifier(criterion='entropy', max_depth=15, min_samples_split=8,\n",
              "                       random_state=1)"
            ]
          },
          "metadata": {},
          "execution_count": 17
        }
      ]
    },
    {
      "cell_type": "markdown",
      "source": [
        "смотрим метрики"
      ],
      "metadata": {
        "id": "o5G4iVdCUfSF"
      }
    },
    {
      "cell_type": "code",
      "source": [
        "from sklearn.metrics import auc\n",
        "from sklearn.metrics import roc_curve\n",
        "from sklearn.metrics import confusion_matrix\n",
        "from sklearn.metrics import classification_report"
      ],
      "metadata": {
        "id": "MXUjZ6uzTYrZ"
      },
      "execution_count": null,
      "outputs": []
    },
    {
      "cell_type": "code",
      "source": [
        "y_pred_tree = treeModel.predict(X_test)\n",
        "confmat_tree=confusion_matrix(y_true=y_test,y_pred=y_pred_tree)\n",
        "print('Матрица ошибок для дерева решений:')\n",
        "print(confmat_tree)\n",
        "\n",
        "specificity_tree = confmat_tree[1][1]/(confmat_tree[1][0] + confmat_tree[1][1])\n",
        "sensitivity_tree = confmat_tree[0][0]/(confmat_tree[0][0] + confmat_tree[0][1])\n",
        "\n",
        "print(r'Чувствительность (Дерево решений): %.3f'%sensitivity_tree)\n",
        "print(r'Специфичность    (Дерево решений): %.3f'%specificity_tree)\n",
        "\n",
        "probsTree = treeModel.predict_proba(X_test)\n",
        "predsTree = probsTree[:,1]\n",
        "fprTree, tprTree, thresholdTree = roc_curve(y_test, predsTree)\n",
        "roc_aucTree = auc(fprTree, tprTree)\n",
        "print(r'AUC              (Дерево решений): %.3f'%roc_aucTree)"
      ],
      "metadata": {
        "id": "ysRSSjwOTil1",
        "colab": {
          "base_uri": "https://localhost:8080/"
        },
        "outputId": "b5b922b5-e9b0-480f-bde9-aa28beef873e"
      },
      "execution_count": null,
      "outputs": [
        {
          "output_type": "stream",
          "name": "stdout",
          "text": [
            "Матрица ошибок для дерева решений:\n",
            "[[76215 15504]\n",
            " [29002 62718]]\n",
            "Чувствительность (Дерево решений): 0.831\n",
            "Специфичность    (Дерево решений): 0.684\n",
            "AUC              (Дерево решений): 0.862\n"
          ]
        }
      ]
    },
    {
      "cell_type": "markdown",
      "source": [
        "выводим наиболее важные признаки"
      ],
      "metadata": {
        "id": "JKe_FH4cU8zz"
      }
    },
    {
      "cell_type": "code",
      "source": [
        "treeImportances = pd.DataFrame(treeModel.feature_importances_,index=dfX.columns,\n",
        "                               columns=['Tree Feature Importances']).sort_values(['Tree Feature Importances'],ascending=True)\n",
        "treeImportances=treeImportances[-10:]\n",
        "treeImportances.plot.barh(figsize=(8,5),color='green')"
      ],
      "metadata": {
        "id": "MsNg94p8TqO1",
        "colab": {
          "base_uri": "https://localhost:8080/",
          "height": 339
        },
        "outputId": "9c25ea67-e30f-43c2-afae-73d59badd063"
      },
      "execution_count": null,
      "outputs": [
        {
          "output_type": "execute_result",
          "data": {
            "text/plain": [
              "<matplotlib.axes._subplots.AxesSubplot at 0x7fc53805e3d0>"
            ]
          },
          "metadata": {},
          "execution_count": 20
        },
        {
          "output_type": "display_data",
          "data": {
            "text/plain": [
              "<Figure size 576x360 with 1 Axes>"
            ],
            "image/png": "[encoded data removed]"
          },
          "metadata": {}
        }
      ]
    },
    {
      "cell_type": "markdown",
      "source": [
        "подбираем гиперпараметры модели"
      ],
      "metadata": {
        "id": "GT5aIPL0VGfk"
      }
    },
    {
      "cell_type": "code",
      "source": [
        "from sklearn.model_selection import GridSearchCV\n",
        "model = DecisionTreeClassifier()\n",
        "parameters = {'criterion':['gini','entropy'],'max_depth':[10,12,14,16], 'min_samples_split':[10,8,6]}\n",
        "gridTree = GridSearchCV(estimator = model, param_grid = parameters)\n",
        "gridTree.fit(X_train, y_train)\n",
        "print(f'Верность (Acc) лучшей модели: {round(gridTree.best_score_,3)}')\n",
        "print(f'Лучшие параметры модели: {gridTree.best_params_}')\n",
        "bestTreeModel = gridTree.best_estimator_\n",
        "y_pred_treeGrid=bestTreeModel.predict(X_test)\n",
        "print(classification_report(y_true=y_test, y_pred=y_pred_treeGrid))"
      ],
      "metadata": {
        "id": "APwTklQ6UND-",
        "colab": {
          "base_uri": "https://localhost:8080/",
          "height": 380
        },
        "outputId": "d3c00d3c-c383-4961-abbf-02f6fdaab85c"
      },
      "execution_count": null,
      "outputs": [
        {
          "output_type": "error",
          "ename": "KeyboardInterrupt",
          "evalue": "ignored",
          "traceback": [
            "\u001b[0;31m---------------------------------------------------------------------------\u001b[0m",
            "\u001b[0;31mKeyboardInterrupt\u001b[0m                         Traceback (most recent call last)",
            "\u001b[0;32m<ipython-input-21-64df108b82b9>\u001b[0m in \u001b[0;36m<module>\u001b[0;34m\u001b[0m\n\u001b[1;32m      3\u001b[0m \u001b[0mparameters\u001b[0m \u001b[0;34m=\u001b[0m \u001b[0;34m{\u001b[0m\u001b[0;34m'criterion'\u001b[0m\u001b[0;34m:\u001b[0m\u001b[0;34m[\u001b[0m\u001b[0;34m'gini'\u001b[0m\u001b[0;34m,\u001b[0m\u001b[0;34m'entropy'\u001b[0m\u001b[0;34m]\u001b[0m\u001b[0;34m,\u001b[0m\u001b[0;34m'max_depth'\u001b[0m\u001b[0;34m:\u001b[0m\u001b[0;34m[\u001b[0m\u001b[0;36m10\u001b[0m\u001b[0;34m,\u001b[0m\u001b[0;36m12\u001b[0m\u001b[0;34m,\u001b[0m\u001b[0;36m14\u001b[0m\u001b[0;34m,\u001b[0m\u001b[0;36m16\u001b[0m\u001b[0;34m]\u001b[0m\u001b[0;34m,\u001b[0m \u001b[0;34m'min_samples_split'\u001b[0m\u001b[0;34m:\u001b[0m\u001b[0;34m[\u001b[0m\u001b[0;36m10\u001b[0m\u001b[0;34m,\u001b[0m\u001b[0;36m8\u001b[0m\u001b[0;34m,\u001b[0m\u001b[0;36m6\u001b[0m\u001b[0;34m]\u001b[0m\u001b[0;34m}\u001b[0m\u001b[0;34m\u001b[0m\u001b[0;34m\u001b[0m\u001b[0m\n\u001b[1;32m      4\u001b[0m \u001b[0mgridTree\u001b[0m \u001b[0;34m=\u001b[0m \u001b[0mGridSearchCV\u001b[0m\u001b[0;34m(\u001b[0m\u001b[0mestimator\u001b[0m \u001b[0;34m=\u001b[0m \u001b[0mmodel\u001b[0m\u001b[0;34m,\u001b[0m \u001b[0mparam_grid\u001b[0m \u001b[0;34m=\u001b[0m \u001b[0mparameters\u001b[0m\u001b[0;34m)\u001b[0m\u001b[0;34m\u001b[0m\u001b[0;34m\u001b[0m\u001b[0m\n\u001b[0;32m----> 5\u001b[0;31m \u001b[0mgridTree\u001b[0m\u001b[0;34m.\u001b[0m\u001b[0mfit\u001b[0m\u001b[0;34m(\u001b[0m\u001b[0mX_train\u001b[0m\u001b[0;34m,\u001b[0m \u001b[0my_train\u001b[0m\u001b[0;34m)\u001b[0m\u001b[0;34m\u001b[0m\u001b[0;34m\u001b[0m\u001b[0m\n\u001b[0m\u001b[1;32m      6\u001b[0m \u001b[0mprint\u001b[0m\u001b[0;34m(\u001b[0m\u001b[0;34mf'Верность (Acc) лучшей модели: {round(gridTree.best_score_,3)}'\u001b[0m\u001b[0;34m)\u001b[0m\u001b[0;34m\u001b[0m\u001b[0;34m\u001b[0m\u001b[0m\n\u001b[1;32m      7\u001b[0m \u001b[0mprint\u001b[0m\u001b[0;34m(\u001b[0m\u001b[0;34mf'Лучшие параметры модели: {gridTree.best_params_}'\u001b[0m\u001b[0;34m)\u001b[0m\u001b[0;34m\u001b[0m\u001b[0;34m\u001b[0m\u001b[0m\n",
            "\u001b[0;32m/usr/local/lib/python3.8/dist-packages/sklearn/model_selection/_search.py\u001b[0m in \u001b[0;36mfit\u001b[0;34m(self, X, y, groups, **fit_params)\u001b[0m\n\u001b[1;32m    889\u001b[0m                 \u001b[0;32mreturn\u001b[0m \u001b[0mresults\u001b[0m\u001b[0;34m\u001b[0m\u001b[0;34m\u001b[0m\u001b[0m\n\u001b[1;32m    890\u001b[0m \u001b[0;34m\u001b[0m\u001b[0m\n\u001b[0;32m--> 891\u001b[0;31m             \u001b[0mself\u001b[0m\u001b[0;34m.\u001b[0m\u001b[0m_run_search\u001b[0m\u001b[0;34m(\u001b[0m\u001b[0mevaluate_candidates\u001b[0m\u001b[0;34m)\u001b[0m\u001b[0;34m\u001b[0m\u001b[0;34m\u001b[0m\u001b[0m\n\u001b[0m\u001b[1;32m    892\u001b[0m \u001b[0;34m\u001b[0m\u001b[0m\n\u001b[1;32m    893\u001b[0m             \u001b[0;31m# multimetric is determined here because in the case of a callable\u001b[0m\u001b[0;34m\u001b[0m\u001b[0;34m\u001b[0m\u001b[0;34m\u001b[0m\u001b[0m\n",
            "\u001b[0;32m/usr/local/lib/python3.8/dist-packages/sklearn/model_selection/_search.py\u001b[0m in \u001b[0;36m_run_search\u001b[0;34m(self, evaluate_candidates)\u001b[0m\n\u001b[1;32m   1390\u001b[0m     \u001b[0;32mdef\u001b[0m \u001b[0m_run_search\u001b[0m\u001b[0;34m(\u001b[0m\u001b[0mself\u001b[0m\u001b[0;34m,\u001b[0m \u001b[0mevaluate_candidates\u001b[0m\u001b[0;34m)\u001b[0m\u001b[0;34m:\u001b[0m\u001b[0;34m\u001b[0m\u001b[0;34m\u001b[0m\u001b[0m\n\u001b[1;32m   1391\u001b[0m         \u001b[0;34m\"\"\"Search all candidates in param_grid\"\"\"\u001b[0m\u001b[0;34m\u001b[0m\u001b[0;34m\u001b[0m\u001b[0m\n\u001b[0;32m-> 1392\u001b[0;31m         \u001b[0mevaluate_candidates\u001b[0m\u001b[0;34m(\u001b[0m\u001b[0mParameterGrid\u001b[0m\u001b[0;34m(\u001b[0m\u001b[0mself\u001b[0m\u001b[0;34m.\u001b[0m\u001b[0mparam_grid\u001b[0m\u001b[0;34m)\u001b[0m\u001b[0;34m)\u001b[0m\u001b[0;34m\u001b[0m\u001b[0;34m\u001b[0m\u001b[0m\n\u001b[0m\u001b[1;32m   1393\u001b[0m \u001b[0;34m\u001b[0m\u001b[0m\n\u001b[1;32m   1394\u001b[0m \u001b[0;34m\u001b[0m\u001b[0m\n",
            "\u001b[0;32m/usr/local/lib/python3.8/dist-packages/sklearn/model_selection/_search.py\u001b[0m in \u001b[0;36mevaluate_candidates\u001b[0;34m(candidate_params, cv, more_results)\u001b[0m\n\u001b[1;32m    836\u001b[0m                     )\n\u001b[1;32m    837\u001b[0m \u001b[0;34m\u001b[0m\u001b[0m\n\u001b[0;32m--> 838\u001b[0;31m                 out = parallel(\n\u001b[0m\u001b[1;32m    839\u001b[0m                     delayed(_fit_and_score)(\n\u001b[1;32m    840\u001b[0m                         \u001b[0mclone\u001b[0m\u001b[0;34m(\u001b[0m\u001b[0mbase_estimator\u001b[0m\u001b[0;34m)\u001b[0m\u001b[0;34m,\u001b[0m\u001b[0;34m\u001b[0m\u001b[0;34m\u001b[0m\u001b[0m\n",
            "\u001b[0;32m/usr/local/lib/python3.8/dist-packages/joblib/parallel.py\u001b[0m in \u001b[0;36m__call__\u001b[0;34m(self, iterable)\u001b[0m\n\u001b[1;32m   1086\u001b[0m                 \u001b[0mself\u001b[0m\u001b[0;34m.\u001b[0m\u001b[0m_iterating\u001b[0m \u001b[0;34m=\u001b[0m \u001b[0mself\u001b[0m\u001b[0;34m.\u001b[0m\u001b[0m_original_iterator\u001b[0m \u001b[0;32mis\u001b[0m \u001b[0;32mnot\u001b[0m \u001b[0;32mNone\u001b[0m\u001b[0;34m\u001b[0m\u001b[0;34m\u001b[0m\u001b[0m\n\u001b[1;32m   1087\u001b[0m \u001b[0;34m\u001b[0m\u001b[0m\n\u001b[0;32m-> 1088\u001b[0;31m             \u001b[0;32mwhile\u001b[0m \u001b[0mself\u001b[0m\u001b[0;34m.\u001b[0m\u001b[0mdispatch_one_batch\u001b[0m\u001b[0;34m(\u001b[0m\u001b[0miterator\u001b[0m\u001b[0;34m)\u001b[0m\u001b[0;34m:\u001b[0m\u001b[0;34m\u001b[0m\u001b[0;34m\u001b[0m\u001b[0m\n\u001b[0m\u001b[1;32m   1089\u001b[0m                 \u001b[0;32mpass\u001b[0m\u001b[0;34m\u001b[0m\u001b[0;34m\u001b[0m\u001b[0m\n\u001b[1;32m   1090\u001b[0m \u001b[0;34m\u001b[0m\u001b[0m\n",
            "\u001b[0;32m/usr/local/lib/python3.8/dist-packages/joblib/parallel.py\u001b[0m in \u001b[0;36mdispatch_one_batch\u001b[0;34m(self, iterator)\u001b[0m\n\u001b[1;32m    899\u001b[0m                 \u001b[0;32mreturn\u001b[0m \u001b[0;32mFalse\u001b[0m\u001b[0;34m\u001b[0m\u001b[0;34m\u001b[0m\u001b[0m\n\u001b[1;32m    900\u001b[0m             \u001b[0;32melse\u001b[0m\u001b[0;34m:\u001b[0m\u001b[0;34m\u001b[0m\u001b[0;34m\u001b[0m\u001b[0m\n\u001b[0;32m--> 901\u001b[0;31m                 \u001b[0mself\u001b[0m\u001b[0;34m.\u001b[0m\u001b[0m_dispatch\u001b[0m\u001b[0;34m(\u001b[0m\u001b[0mtasks\u001b[0m\u001b[0;34m)\u001b[0m\u001b[0;34m\u001b[0m\u001b[0;34m\u001b[0m\u001b[0m\n\u001b[0m\u001b[1;32m    902\u001b[0m                 \u001b[0;32mreturn\u001b[0m \u001b[0;32mTrue\u001b[0m\u001b[0;34m\u001b[0m\u001b[0;34m\u001b[0m\u001b[0m\n\u001b[1;32m    903\u001b[0m \u001b[0;34m\u001b[0m\u001b[0m\n",
            "\u001b[0;32m/usr/local/lib/python3.8/dist-packages/joblib/parallel.py\u001b[0m in \u001b[0;36m_dispatch\u001b[0;34m(self, batch)\u001b[0m\n\u001b[1;32m    817\u001b[0m         \u001b[0;32mwith\u001b[0m \u001b[0mself\u001b[0m\u001b[0;34m.\u001b[0m\u001b[0m_lock\u001b[0m\u001b[0;34m:\u001b[0m\u001b[0;34m\u001b[0m\u001b[0;34m\u001b[0m\u001b[0m\n\u001b[1;32m    818\u001b[0m             \u001b[0mjob_idx\u001b[0m \u001b[0;34m=\u001b[0m \u001b[0mlen\u001b[0m\u001b[0;34m(\u001b[0m\u001b[0mself\u001b[0m\u001b[0;34m.\u001b[0m\u001b[0m_jobs\u001b[0m\u001b[0;34m)\u001b[0m\u001b[0;34m\u001b[0m\u001b[0;34m\u001b[0m\u001b[0m\n\u001b[0;32m--> 819\u001b[0;31m             \u001b[0mjob\u001b[0m \u001b[0;34m=\u001b[0m \u001b[0mself\u001b[0m\u001b[0;34m.\u001b[0m\u001b[0m_backend\u001b[0m\u001b[0;34m.\u001b[0m\u001b[0mapply_async\u001b[0m\u001b[0;34m(\u001b[0m\u001b[0mbatch\u001b[0m\u001b[0;34m,\u001b[0m \u001b[0mcallback\u001b[0m\u001b[0;34m=\u001b[0m\u001b[0mcb\u001b[0m\u001b[0;34m)\u001b[0m\u001b[0;34m\u001b[0m\u001b[0;34m\u001b[0m\u001b[0m\n\u001b[0m\u001b[1;32m    820\u001b[0m             \u001b[0;31m# A job can complete so quickly than its callback is\u001b[0m\u001b[0;34m\u001b[0m\u001b[0;34m\u001b[0m\u001b[0;34m\u001b[0m\u001b[0m\n\u001b[1;32m    821\u001b[0m             \u001b[0;31m# called before we get here, causing self._jobs to\u001b[0m\u001b[0;34m\u001b[0m\u001b[0;34m\u001b[0m\u001b[0;34m\u001b[0m\u001b[0m\n",
            "\u001b[0;32m/usr/local/lib/python3.8/dist-packages/joblib/_parallel_backends.py\u001b[0m in \u001b[0;36mapply_async\u001b[0;34m(self, func, callback)\u001b[0m\n\u001b[1;32m    206\u001b[0m     \u001b[0;32mdef\u001b[0m \u001b[0mapply_async\u001b[0m\u001b[0;34m(\u001b[0m\u001b[0mself\u001b[0m\u001b[0;34m,\u001b[0m \u001b[0mfunc\u001b[0m\u001b[0;34m,\u001b[0m \u001b[0mcallback\u001b[0m\u001b[0;34m=\u001b[0m\u001b[0;32mNone\u001b[0m\u001b[0;34m)\u001b[0m\u001b[0;34m:\u001b[0m\u001b[0;34m\u001b[0m\u001b[0;34m\u001b[0m\u001b[0m\n\u001b[1;32m    207\u001b[0m         \u001b[0;34m\"\"\"Schedule a func to be run\"\"\"\u001b[0m\u001b[0;34m\u001b[0m\u001b[0;34m\u001b[0m\u001b[0m\n\u001b[0;32m--> 208\u001b[0;31m         \u001b[0mresult\u001b[0m \u001b[0;34m=\u001b[0m \u001b[0mImmediateResult\u001b[0m\u001b[0;34m(\u001b[0m\u001b[0mfunc\u001b[0m\u001b[0;34m)\u001b[0m\u001b[0;34m\u001b[0m\u001b[0;34m\u001b[0m\u001b[0m\n\u001b[0m\u001b[1;32m    209\u001b[0m         \u001b[0;32mif\u001b[0m \u001b[0mcallback\u001b[0m\u001b[0;34m:\u001b[0m\u001b[0;34m\u001b[0m\u001b[0;34m\u001b[0m\u001b[0m\n\u001b[1;32m    210\u001b[0m             \u001b[0mcallback\u001b[0m\u001b[0;34m(\u001b[0m\u001b[0mresult\u001b[0m\u001b[0;34m)\u001b[0m\u001b[0;34m\u001b[0m\u001b[0;34m\u001b[0m\u001b[0m\n",
            "\u001b[0;32m/usr/local/lib/python3.8/dist-packages/joblib/_parallel_backends.py\u001b[0m in \u001b[0;36m__init__\u001b[0;34m(self, batch)\u001b[0m\n\u001b[1;32m    595\u001b[0m         \u001b[0;31m# Don't delay the application, to avoid keeping the input\u001b[0m\u001b[0;34m\u001b[0m\u001b[0;34m\u001b[0m\u001b[0;34m\u001b[0m\u001b[0m\n\u001b[1;32m    596\u001b[0m         \u001b[0;31m# arguments in memory\u001b[0m\u001b[0;34m\u001b[0m\u001b[0;34m\u001b[0m\u001b[0;34m\u001b[0m\u001b[0m\n\u001b[0;32m--> 597\u001b[0;31m         \u001b[0mself\u001b[0m\u001b[0;34m.\u001b[0m\u001b[0mresults\u001b[0m \u001b[0;34m=\u001b[0m \u001b[0mbatch\u001b[0m\u001b[0;34m(\u001b[0m\u001b[0;34m)\u001b[0m\u001b[0;34m\u001b[0m\u001b[0;34m\u001b[0m\u001b[0m\n\u001b[0m\u001b[1;32m    598\u001b[0m \u001b[0;34m\u001b[0m\u001b[0m\n\u001b[1;32m    599\u001b[0m     \u001b[0;32mdef\u001b[0m \u001b[0mget\u001b[0m\u001b[0;34m(\u001b[0m\u001b[0mself\u001b[0m\u001b[0;34m)\u001b[0m\u001b[0;34m:\u001b[0m\u001b[0;34m\u001b[0m\u001b[0;34m\u001b[0m\u001b[0m\n",
            "\u001b[0;32m/usr/local/lib/python3.8/dist-packages/joblib/parallel.py\u001b[0m in \u001b[0;36m__call__\u001b[0;34m(self)\u001b[0m\n\u001b[1;32m    286\u001b[0m         \u001b[0;31m# change the default number of processes to -1\u001b[0m\u001b[0;34m\u001b[0m\u001b[0;34m\u001b[0m\u001b[0;34m\u001b[0m\u001b[0m\n\u001b[1;32m    287\u001b[0m         \u001b[0;32mwith\u001b[0m \u001b[0mparallel_backend\u001b[0m\u001b[0;34m(\u001b[0m\u001b[0mself\u001b[0m\u001b[0;34m.\u001b[0m\u001b[0m_backend\u001b[0m\u001b[0;34m,\u001b[0m \u001b[0mn_jobs\u001b[0m\u001b[0;34m=\u001b[0m\u001b[0mself\u001b[0m\u001b[0;34m.\u001b[0m\u001b[0m_n_jobs\u001b[0m\u001b[0;34m)\u001b[0m\u001b[0;34m:\u001b[0m\u001b[0;34m\u001b[0m\u001b[0;34m\u001b[0m\u001b[0m\n\u001b[0;32m--> 288\u001b[0;31m             return [func(*args, **kwargs)\n\u001b[0m\u001b[1;32m    289\u001b[0m                     for func, args, kwargs in self.items]\n\u001b[1;32m    290\u001b[0m \u001b[0;34m\u001b[0m\u001b[0m\n",
            "\u001b[0;32m/usr/local/lib/python3.8/dist-packages/joblib/parallel.py\u001b[0m in \u001b[0;36m<listcomp>\u001b[0;34m(.0)\u001b[0m\n\u001b[1;32m    286\u001b[0m         \u001b[0;31m# change the default number of processes to -1\u001b[0m\u001b[0;34m\u001b[0m\u001b[0;34m\u001b[0m\u001b[0;34m\u001b[0m\u001b[0m\n\u001b[1;32m    287\u001b[0m         \u001b[0;32mwith\u001b[0m \u001b[0mparallel_backend\u001b[0m\u001b[0;34m(\u001b[0m\u001b[0mself\u001b[0m\u001b[0;34m.\u001b[0m\u001b[0m_backend\u001b[0m\u001b[0;34m,\u001b[0m \u001b[0mn_jobs\u001b[0m\u001b[0;34m=\u001b[0m\u001b[0mself\u001b[0m\u001b[0;34m.\u001b[0m\u001b[0m_n_jobs\u001b[0m\u001b[0;34m)\u001b[0m\u001b[0;34m:\u001b[0m\u001b[0;34m\u001b[0m\u001b[0;34m\u001b[0m\u001b[0m\n\u001b[0;32m--> 288\u001b[0;31m             return [func(*args, **kwargs)\n\u001b[0m\u001b[1;32m    289\u001b[0m                     for func, args, kwargs in self.items]\n\u001b[1;32m    290\u001b[0m \u001b[0;34m\u001b[0m\u001b[0m\n",
            "\u001b[0;32m/usr/local/lib/python3.8/dist-packages/sklearn/utils/fixes.py\u001b[0m in \u001b[0;36m__call__\u001b[0;34m(self, *args, **kwargs)\u001b[0m\n\u001b[1;32m    214\u001b[0m     \u001b[0;32mdef\u001b[0m \u001b[0m__call__\u001b[0m\u001b[0;34m(\u001b[0m\u001b[0mself\u001b[0m\u001b[0;34m,\u001b[0m \u001b[0;34m*\u001b[0m\u001b[0margs\u001b[0m\u001b[0;34m,\u001b[0m \u001b[0;34m**\u001b[0m\u001b[0mkwargs\u001b[0m\u001b[0;34m)\u001b[0m\u001b[0;34m:\u001b[0m\u001b[0;34m\u001b[0m\u001b[0;34m\u001b[0m\u001b[0m\n\u001b[1;32m    215\u001b[0m         \u001b[0;32mwith\u001b[0m \u001b[0mconfig_context\u001b[0m\u001b[0;34m(\u001b[0m\u001b[0;34m**\u001b[0m\u001b[0mself\u001b[0m\u001b[0;34m.\u001b[0m\u001b[0mconfig\u001b[0m\u001b[0;34m)\u001b[0m\u001b[0;34m:\u001b[0m\u001b[0;34m\u001b[0m\u001b[0;34m\u001b[0m\u001b[0m\n\u001b[0;32m--> 216\u001b[0;31m             \u001b[0;32mreturn\u001b[0m \u001b[0mself\u001b[0m\u001b[0;34m.\u001b[0m\u001b[0mfunction\u001b[0m\u001b[0;34m(\u001b[0m\u001b[0;34m*\u001b[0m\u001b[0margs\u001b[0m\u001b[0;34m,\u001b[0m \u001b[0;34m**\u001b[0m\u001b[0mkwargs\u001b[0m\u001b[0;34m)\u001b[0m\u001b[0;34m\u001b[0m\u001b[0;34m\u001b[0m\u001b[0m\n\u001b[0m\u001b[1;32m    217\u001b[0m \u001b[0;34m\u001b[0m\u001b[0m\n\u001b[1;32m    218\u001b[0m \u001b[0;34m\u001b[0m\u001b[0m\n",
            "\u001b[0;32m/usr/local/lib/python3.8/dist-packages/sklearn/model_selection/_validation.py\u001b[0m in \u001b[0;36m_fit_and_score\u001b[0;34m(estimator, X, y, scorer, train, test, verbose, parameters, fit_params, return_train_score, return_parameters, return_n_test_samples, return_times, return_estimator, split_progress, candidate_progress, error_score)\u001b[0m\n\u001b[1;32m    678\u001b[0m             \u001b[0mestimator\u001b[0m\u001b[0;34m.\u001b[0m\u001b[0mfit\u001b[0m\u001b[0;34m(\u001b[0m\u001b[0mX_train\u001b[0m\u001b[0;34m,\u001b[0m \u001b[0;34m**\u001b[0m\u001b[0mfit_params\u001b[0m\u001b[0;34m)\u001b[0m\u001b[0;34m\u001b[0m\u001b[0;34m\u001b[0m\u001b[0m\n\u001b[1;32m    679\u001b[0m         \u001b[0;32melse\u001b[0m\u001b[0;34m:\u001b[0m\u001b[0;34m\u001b[0m\u001b[0;34m\u001b[0m\u001b[0m\n\u001b[0;32m--> 680\u001b[0;31m             \u001b[0mestimator\u001b[0m\u001b[0;34m.\u001b[0m\u001b[0mfit\u001b[0m\u001b[0;34m(\u001b[0m\u001b[0mX_train\u001b[0m\u001b[0;34m,\u001b[0m \u001b[0my_train\u001b[0m\u001b[0;34m,\u001b[0m \u001b[0;34m**\u001b[0m\u001b[0mfit_params\u001b[0m\u001b[0;34m)\u001b[0m\u001b[0;34m\u001b[0m\u001b[0;34m\u001b[0m\u001b[0m\n\u001b[0m\u001b[1;32m    681\u001b[0m \u001b[0;34m\u001b[0m\u001b[0m\n\u001b[1;32m    682\u001b[0m     \u001b[0;32mexcept\u001b[0m \u001b[0mException\u001b[0m\u001b[0;34m:\u001b[0m\u001b[0;34m\u001b[0m\u001b[0;34m\u001b[0m\u001b[0m\n",
            "\u001b[0;32m/usr/local/lib/python3.8/dist-packages/sklearn/tree/_classes.py\u001b[0m in \u001b[0;36mfit\u001b[0;34m(self, X, y, sample_weight, check_input, X_idx_sorted)\u001b[0m\n\u001b[1;32m    935\u001b[0m         \"\"\"\n\u001b[1;32m    936\u001b[0m \u001b[0;34m\u001b[0m\u001b[0m\n\u001b[0;32m--> 937\u001b[0;31m         super().fit(\n\u001b[0m\u001b[1;32m    938\u001b[0m             \u001b[0mX\u001b[0m\u001b[0;34m,\u001b[0m\u001b[0;34m\u001b[0m\u001b[0;34m\u001b[0m\u001b[0m\n\u001b[1;32m    939\u001b[0m             \u001b[0my\u001b[0m\u001b[0;34m,\u001b[0m\u001b[0;34m\u001b[0m\u001b[0;34m\u001b[0m\u001b[0m\n",
            "\u001b[0;32m/usr/local/lib/python3.8/dist-packages/sklearn/tree/_classes.py\u001b[0m in \u001b[0;36mfit\u001b[0;34m(self, X, y, sample_weight, check_input, X_idx_sorted)\u001b[0m\n\u001b[1;32m    418\u001b[0m             )\n\u001b[1;32m    419\u001b[0m \u001b[0;34m\u001b[0m\u001b[0m\n\u001b[0;32m--> 420\u001b[0;31m         \u001b[0mbuilder\u001b[0m\u001b[0;34m.\u001b[0m\u001b[0mbuild\u001b[0m\u001b[0;34m(\u001b[0m\u001b[0mself\u001b[0m\u001b[0;34m.\u001b[0m\u001b[0mtree_\u001b[0m\u001b[0;34m,\u001b[0m \u001b[0mX\u001b[0m\u001b[0;34m,\u001b[0m \u001b[0my\u001b[0m\u001b[0;34m,\u001b[0m \u001b[0msample_weight\u001b[0m\u001b[0;34m)\u001b[0m\u001b[0;34m\u001b[0m\u001b[0;34m\u001b[0m\u001b[0m\n\u001b[0m\u001b[1;32m    421\u001b[0m \u001b[0;34m\u001b[0m\u001b[0m\n\u001b[1;32m    422\u001b[0m         \u001b[0;32mif\u001b[0m \u001b[0mself\u001b[0m\u001b[0;34m.\u001b[0m\u001b[0mn_outputs_\u001b[0m \u001b[0;34m==\u001b[0m \u001b[0;36m1\u001b[0m \u001b[0;32mand\u001b[0m \u001b[0mis_classifier\u001b[0m\u001b[0;34m(\u001b[0m\u001b[0mself\u001b[0m\u001b[0;34m)\u001b[0m\u001b[0;34m:\u001b[0m\u001b[0;34m\u001b[0m\u001b[0;34m\u001b[0m\u001b[0m\n",
            "\u001b[0;31mKeyboardInterrupt\u001b[0m: "
          ]
        }
      ]
    },
    {
      "cell_type": "code",
      "source": [
        "probsBestTree = bestTreeModel.predict_proba(X_test)\n",
        "predsBestTree = probsBestTree[:,1]\n",
        "fprBestTree,tprBestTree,thresholdBestTree = roc_curve(y_test, predsBestTree)\n",
        "roc_aucBestTree = auc(fprBestTree, tprBestTree)\n",
        "print(f'Значение AUC для лучшей модели = %.3f'%roc_aucBestTree)"
      ],
      "metadata": {
        "id": "1TxoSVYIUNsO"
      },
      "execution_count": null,
      "outputs": []
    },
    {
      "cell_type": "markdown",
      "source": [
        "##Модель случайного леса"
      ],
      "metadata": {
        "id": "3smh9baEWM4h"
      }
    },
    {
      "cell_type": "code",
      "source": [
        "from sklearn.ensemble import RandomForestClassifier\n",
        "\n",
        "rfModel = RandomForestClassifier(criterion='entropy', max_depth=2, n_estimators=3, \n",
        "                                   min_samples_split=8, random_state=1) \n",
        "rfModel.fit(X_train,y_train)"
      ],
      "metadata": {
        "id": "N1Ryknt1WNn8",
        "colab": {
          "base_uri": "https://localhost:8080/"
        },
        "outputId": "54906fed-5d9b-489b-c2e2-70db44578a52"
      },
      "execution_count": null,
      "outputs": [
        {
          "output_type": "execute_result",
          "data": {
            "text/plain": [
              "RandomForestClassifier(criterion='entropy', max_depth=2, min_samples_split=8,\n",
              "                       n_estimators=3, random_state=1)"
            ]
          },
          "metadata": {},
          "execution_count": 22
        }
      ]
    },
    {
      "cell_type": "code",
      "source": [
        "y_pred_rf_tree = rfModel.predict(X_test)\n",
        "confmat_tree=confusion_matrix(y_true=y_test,y_pred=y_pred_rf_tree)\n",
        "print('Матрица ошибок для дерева решений:')\n",
        "print(confmat_tree)\n",
        "\n",
        "specificity_tree = confmat_tree[1][1]/(confmat_tree[1][0] + confmat_tree[1][1])\n",
        "sensitivity_tree = confmat_tree[0][0]/(confmat_tree[0][0] + confmat_tree[0][1])\n",
        "\n",
        "print(r'Чувствительность (Дерево решений): %.3f'%sensitivity_tree)\n",
        "print(r'Специфичность    (Дерево решений): %.3f'%specificity_tree)\n",
        "\n",
        "probsRFTree = rfModel.predict_proba(X_test)\n",
        "predsRFTree = probsRFTree[:,1]\n",
        "fprTree, tprTree, thresholdTree = roc_curve(y_test, predsRFTree)\n",
        "roc_aucRFTree = auc(fprTree, tprTree)\n",
        "print(r'AUC              (Дерево решений): %.3f'%roc_aucRFTree)"
      ],
      "metadata": {
        "id": "A0y0yCv-WyEm",
        "colab": {
          "base_uri": "https://localhost:8080/"
        },
        "outputId": "783c1f21-1f48-43cb-8ffe-8225baf4a9c9"
      },
      "execution_count": null,
      "outputs": [
        {
          "output_type": "stream",
          "name": "stdout",
          "text": [
            "Матрица ошибок для дерева решений:\n",
            "[[62679 29040]\n",
            " [42956 48764]]\n",
            "Чувствительность (Дерево решений): 0.683\n",
            "Специфичность    (Дерево решений): 0.532\n",
            "AUC              (Дерево решений): 0.632\n"
          ]
        }
      ]
    },
    {
      "cell_type": "markdown",
      "source": [
        "выводим наиболее важные признаки"
      ],
      "metadata": {
        "id": "vGtVuuamXQa-"
      }
    },
    {
      "cell_type": "code",
      "source": [
        "rftreeImportances = pd.DataFrame(rfModel.feature_importances_,index=dfX.columns,\n",
        "                               columns=['Random Forest Feature Importances']).sort_values(['Random Forest Feature Importances'],ascending=True)\n",
        "rftreeImportances=rftreeImportances[-10:]\n",
        "rftreeImportances.plot.barh(figsize=(8,5),color='green')"
      ],
      "metadata": {
        "id": "HUs5htnoXRd0",
        "colab": {
          "base_uri": "https://localhost:8080/",
          "height": 339
        },
        "outputId": "f6aeca95-61d2-449d-9d89-44a51c107530"
      },
      "execution_count": null,
      "outputs": [
        {
          "output_type": "execute_result",
          "data": {
            "text/plain": [
              "<matplotlib.axes._subplots.AxesSubplot at 0x7fc538198fd0>"
            ]
          },
          "metadata": {},
          "execution_count": 24
        },
        {
          "output_type": "display_data",
          "data": {
            "text/plain": [
              "<Figure size 576x360 with 1 Axes>"
            ],
            "image/png": "[encoded data removed]"
          },
          "metadata": {}
        }
      ]
    },
    {
      "cell_type": "markdown",
      "source": [
        "подбираем гиперпараметры для случайного леса"
      ],
      "metadata": {
        "id": "ShkNbJ3cbzeX"
      }
    },
    {
      "cell_type": "code",
      "source": [
        "model = RandomForestClassifier()\n",
        "parameters = {'criterion':['gini','entropy'],'max_depth':[10,12,14,16], 'n_estimators':[3,5,10], 'min_samples_split':[10,8,6]}\n",
        "gridRF = GridSearchCV(estimator = model, param_grid = parameters)\n",
        "gridRF.fit(X_train, y_train)\n",
        "print(f'Верность (Acc) лучшей модели: {round(gridRF.best_score_,3)}')\n",
        "print(f'Лучшие параметры модели: {gridRF.best_params_}')\n",
        "bestRFModel = gridRF.best_estimator_\n",
        "y_pred_RFGrid=bestRFModel.predict(X_test)\n",
        "print(classification_report(y_true=y_test, y_pred=y_pred_RFGrid))"
      ],
      "metadata": {
        "id": "Wpk-XzZVb6s2"
      },
      "execution_count": null,
      "outputs": []
    },
    {
      "cell_type": "code",
      "source": [
        "probsBestRF = bestRFModel.predict_proba(X_test)\n",
        "predsBestRF = probsBestRF[:,1]\n",
        "fprBestRF,tprBestRF,thresholdBestRF = roc_curve(y_test, predsBestRF)\n",
        "roc_aucBestRF = auc(fprBestRF, tprBestRF)\n",
        "print(f'Значение AUC для лучшей модели = %.3f'%roc_aucBestRF)"
      ],
      "metadata": {
        "id": "d3hGMgrRchT8"
      },
      "execution_count": null,
      "outputs": []
    },
    {
      "cell_type": "markdown",
      "source": [
        "##CatBoost"
      ],
      "metadata": {
        "id": "cP6ytfQLe55p"
      }
    },
    {
      "cell_type": "markdown",
      "source": [
        "вывод важных признаков"
      ],
      "metadata": {
        "id": "qLAY2kAfgKft"
      }
    },
    {
      "cell_type": "code",
      "source": [
        "!pip install catboost"
      ],
      "metadata": {
        "colab": {
          "base_uri": "https://localhost:8080/"
        },
        "id": "5bOPkflAJOPD",
        "outputId": "0c28a208-af60-4c4c-f139-058918e2217b"
      },
      "execution_count": null,
      "outputs": [
        {
          "output_type": "stream",
          "name": "stdout",
          "text": [
            "Looking in indexes: https://pypi.org/simple, https://us-python.pkg.dev/colab-wheels/public/simple/\n",
            "Collecting catboost\n",
            "  Downloading catboost-1.1.1-cp38-none-manylinux1_x86_64.whl (76.6 MB)\n",
            "\u001b[2K     \u001b[90m━━━━━━━━━━━━━━━━━━━━━━━━━━━━━━━━━━━━━━━━\u001b[0m \u001b[32m76.6/76.6 MB\u001b[0m \u001b[31m14.0 MB/s\u001b[0m eta \u001b[36m0:00:00\u001b[0m\n",
            "\u001b[?25hRequirement already satisfied: six in /usr/local/lib/python3.8/dist-packages (from catboost) (1.15.0)\n",
            "Requirement already satisfied: numpy>=1.16.0 in /usr/local/lib/python3.8/dist-packages (from catboost) (1.21.6)\n",
            "Requirement already satisfied: pandas>=0.24.0 in /usr/local/lib/python3.8/dist-packages (from catboost) (1.3.5)\n",
            "Requirement already satisfied: matplotlib in /usr/local/lib/python3.8/dist-packages (from catboost) (3.2.2)\n",
            "Requirement already satisfied: plotly in /usr/local/lib/python3.8/dist-packages (from catboost) (5.5.0)\n",
            "Requirement already satisfied: graphviz in /usr/local/lib/python3.8/dist-packages (from catboost) (0.10.1)\n",
            "Requirement already satisfied: scipy in /usr/local/lib/python3.8/dist-packages (from catboost) (1.7.3)\n",
            "Requirement already satisfied: python-dateutil>=2.7.3 in /usr/local/lib/python3.8/dist-packages (from pandas>=0.24.0->catboost) (2.8.2)\n",
            "Requirement already satisfied: pytz>=2017.3 in /usr/local/lib/python3.8/dist-packages (from pandas>=0.24.0->catboost) (2022.7.1)\n",
            "Requirement already satisfied: cycler>=0.10 in /usr/local/lib/python3.8/dist-packages (from matplotlib->catboost) (0.11.0)\n",
            "Requirement already satisfied: pyparsing!=2.0.4,!=2.1.2,!=2.1.6,>=2.0.1 in /usr/local/lib/python3.8/dist-packages (from matplotlib->catboost) (3.0.9)\n",
            "Requirement already satisfied: kiwisolver>=1.0.1 in /usr/local/lib/python3.8/dist-packages (from matplotlib->catboost) (1.4.4)\n",
            "Requirement already satisfied: tenacity>=6.2.0 in /usr/local/lib/python3.8/dist-packages (from plotly->catboost) (8.2.1)\n",
            "Installing collected packages: catboost\n",
            "Successfully installed catboost-1.1.1\n"
          ]
        }
      ]
    },
    {
      "cell_type": "code",
      "source": [
        "from catboost import CatBoostClassifier, cv\n",
        "\n",
        "model = CatBoostClassifier()\n",
        "model.fit(X = X_train, y = y_train)\n",
        "\n",
        "cat_imp = pd.Series(model.get_feature_importance(),\n",
        "                         X_train.columns)\n",
        "fig, ax = plt.subplots(figsize=(16,14))\n",
        "cat_imp.plot.bar(ax=ax)\n",
        "ax.set_title(\"Важность признаков\")\n",
        "ax.set_ylabel('Важность, %')\n",
        "fig.tight_layout()"
      ],
      "metadata": {
        "id": "1lj5LeLue8ab",
        "colab": {
          "base_uri": "https://localhost:8080/",
          "height": 1000
        },
        "outputId": "75ff92c4-db4f-451a-9cbd-3a1a5c33f889"
      },
      "execution_count": null,
      "outputs": [
        {
          "output_type": "stream",
          "name": "stdout",
          "text": [
            "Learning rate set to 0.172395\n",
            "0:\tlearn: 0.6552706\ttotal: 179ms\tremaining: 2m 59s\n",
            "1:\tlearn: 0.6395912\ttotal: 287ms\tremaining: 2m 22s\n",
            "2:\tlearn: 0.6277949\ttotal: 403ms\tremaining: 2m 13s\n",
            "3:\tlearn: 0.6211006\ttotal: 517ms\tremaining: 2m 8s\n",
            "4:\tlearn: 0.6142159\ttotal: 635ms\tremaining: 2m 6s\n",
            "5:\tlearn: 0.6113754\ttotal: 746ms\tremaining: 2m 3s\n",
            "6:\tlearn: 0.6093032\ttotal: 851ms\tremaining: 2m\n",
            "7:\tlearn: 0.6053943\ttotal: 964ms\tremaining: 1m 59s\n",
            "8:\tlearn: 0.6026778\ttotal: 1.18s\tremaining: 2m 9s\n",
            "9:\tlearn: 0.5999329\ttotal: 1.43s\tremaining: 2m 21s\n",
            "10:\tlearn: 0.5979770\ttotal: 1.72s\tremaining: 2m 35s\n",
            "11:\tlearn: 0.5957598\ttotal: 2.02s\tremaining: 2m 46s\n",
            "12:\tlearn: 0.5937000\ttotal: 2.25s\tremaining: 2m 50s\n",
            "13:\tlearn: 0.5920842\ttotal: 2.5s\tremaining: 2m 56s\n",
            "14:\tlearn: 0.5893731\ttotal: 2.76s\tremaining: 3m 1s\n",
            "15:\tlearn: 0.5874239\ttotal: 3.02s\tremaining: 3m 5s\n",
            "16:\tlearn: 0.5861184\ttotal: 3.2s\tremaining: 3m 5s\n",
            "17:\tlearn: 0.5842362\ttotal: 3.52s\tremaining: 3m 12s\n",
            "18:\tlearn: 0.5827844\ttotal: 3.74s\tremaining: 3m 13s\n",
            "19:\tlearn: 0.5804061\ttotal: 4.04s\tremaining: 3m 17s\n",
            "20:\tlearn: 0.5782789\ttotal: 4.27s\tremaining: 3m 19s\n",
            "21:\tlearn: 0.5750044\ttotal: 4.54s\tremaining: 3m 21s\n",
            "22:\tlearn: 0.5729511\ttotal: 4.87s\tremaining: 3m 26s\n",
            "23:\tlearn: 0.5715585\ttotal: 5.38s\tremaining: 3m 38s\n",
            "24:\tlearn: 0.5701717\ttotal: 5.82s\tremaining: 3m 46s\n",
            "25:\tlearn: 0.5682812\ttotal: 6.29s\tremaining: 3m 55s\n",
            "26:\tlearn: 0.5674665\ttotal: 6.7s\tremaining: 4m 1s\n",
            "27:\tlearn: 0.5663100\ttotal: 7.17s\tremaining: 4m 8s\n",
            "28:\tlearn: 0.5648824\ttotal: 7.56s\tremaining: 4m 13s\n",
            "29:\tlearn: 0.5634062\ttotal: 7.93s\tremaining: 4m 16s\n",
            "30:\tlearn: 0.5624657\ttotal: 8.36s\tremaining: 4m 21s\n",
            "31:\tlearn: 0.5610874\ttotal: 8.86s\tremaining: 4m 28s\n",
            "32:\tlearn: 0.5600542\ttotal: 9.29s\tremaining: 4m 32s\n",
            "33:\tlearn: 0.5589996\ttotal: 9.57s\tremaining: 4m 31s\n",
            "34:\tlearn: 0.5573405\ttotal: 9.82s\tremaining: 4m 30s\n",
            "35:\tlearn: 0.5563339\ttotal: 10.1s\tremaining: 4m 30s\n",
            "36:\tlearn: 0.5552557\ttotal: 10.4s\tremaining: 4m 30s\n",
            "37:\tlearn: 0.5541867\ttotal: 10.7s\tremaining: 4m 29s\n",
            "38:\tlearn: 0.5529788\ttotal: 11s\tremaining: 4m 29s\n",
            "39:\tlearn: 0.5519744\ttotal: 11.2s\tremaining: 4m 29s\n",
            "40:\tlearn: 0.5509652\ttotal: 11.5s\tremaining: 4m 29s\n",
            "41:\tlearn: 0.5502021\ttotal: 11.8s\tremaining: 4m 29s\n",
            "42:\tlearn: 0.5493834\ttotal: 12.1s\tremaining: 4m 28s\n",
            "43:\tlearn: 0.5482273\ttotal: 12.4s\tremaining: 4m 28s\n",
            "44:\tlearn: 0.5471236\ttotal: 12.7s\tremaining: 4m 29s\n",
            "45:\tlearn: 0.5462085\ttotal: 13s\tremaining: 4m 29s\n",
            "46:\tlearn: 0.5451549\ttotal: 13.3s\tremaining: 4m 29s\n",
            "47:\tlearn: 0.5442278\ttotal: 13.6s\tremaining: 4m 28s\n",
            "48:\tlearn: 0.5434486\ttotal: 13.8s\tremaining: 4m 27s\n",
            "49:\tlearn: 0.5428005\ttotal: 14s\tremaining: 4m 26s\n",
            "50:\tlearn: 0.5419282\ttotal: 14.3s\tremaining: 4m 26s\n",
            "51:\tlearn: 0.5407663\ttotal: 14.7s\tremaining: 4m 27s\n",
            "52:\tlearn: 0.5395436\ttotal: 14.9s\tremaining: 4m 26s\n",
            "53:\tlearn: 0.5385381\ttotal: 15.1s\tremaining: 4m 25s\n",
            "54:\tlearn: 0.5366997\ttotal: 15.4s\tremaining: 4m 25s\n",
            "55:\tlearn: 0.5355290\ttotal: 15.8s\tremaining: 4m 25s\n",
            "56:\tlearn: 0.5343904\ttotal: 16.1s\tremaining: 4m 25s\n",
            "57:\tlearn: 0.5337126\ttotal: 16.4s\tremaining: 4m 25s\n",
            "58:\tlearn: 0.5333006\ttotal: 16.7s\tremaining: 4m 26s\n",
            "59:\tlearn: 0.5326291\ttotal: 17s\tremaining: 4m 26s\n",
            "60:\tlearn: 0.5316403\ttotal: 17.2s\tremaining: 4m 25s\n",
            "61:\tlearn: 0.5311187\ttotal: 17.4s\tremaining: 4m 23s\n",
            "62:\tlearn: 0.5299808\ttotal: 17.8s\tremaining: 4m 24s\n",
            "63:\tlearn: 0.5291083\ttotal: 18.1s\tremaining: 4m 24s\n",
            "64:\tlearn: 0.5279453\ttotal: 18.4s\tremaining: 4m 24s\n",
            "65:\tlearn: 0.5273242\ttotal: 18.7s\tremaining: 4m 24s\n",
            "66:\tlearn: 0.5264785\ttotal: 19s\tremaining: 4m 24s\n",
            "67:\tlearn: 0.5257131\ttotal: 19.3s\tremaining: 4m 24s\n",
            "68:\tlearn: 0.5249041\ttotal: 19.8s\tremaining: 4m 26s\n",
            "69:\tlearn: 0.5242921\ttotal: 20.3s\tremaining: 4m 30s\n",
            "70:\tlearn: 0.5235131\ttotal: 20.7s\tremaining: 4m 30s\n",
            "71:\tlearn: 0.5228932\ttotal: 21.1s\tremaining: 4m 32s\n",
            "72:\tlearn: 0.5222719\ttotal: 21.6s\tremaining: 4m 34s\n",
            "73:\tlearn: 0.5213928\ttotal: 21.9s\tremaining: 4m 34s\n",
            "74:\tlearn: 0.5202350\ttotal: 22.3s\tremaining: 4m 35s\n",
            "75:\tlearn: 0.5196424\ttotal: 22.8s\tremaining: 4m 37s\n",
            "76:\tlearn: 0.5191107\ttotal: 23.2s\tremaining: 4m 38s\n",
            "77:\tlearn: 0.5177192\ttotal: 23.5s\tremaining: 4m 38s\n",
            "78:\tlearn: 0.5171094\ttotal: 23.8s\tremaining: 4m 37s\n",
            "79:\tlearn: 0.5169654\ttotal: 24.2s\tremaining: 4m 37s\n",
            "80:\tlearn: 0.5160027\ttotal: 24.5s\tremaining: 4m 38s\n",
            "81:\tlearn: 0.5154026\ttotal: 24.9s\tremaining: 4m 38s\n",
            "82:\tlearn: 0.5143390\ttotal: 25.1s\tremaining: 4m 37s\n",
            "83:\tlearn: 0.5129743\ttotal: 25.4s\tremaining: 4m 36s\n",
            "84:\tlearn: 0.5121825\ttotal: 25.7s\tremaining: 4m 36s\n",
            "85:\tlearn: 0.5110001\ttotal: 26s\tremaining: 4m 35s\n",
            "86:\tlearn: 0.5104544\ttotal: 26.2s\tremaining: 4m 35s\n",
            "87:\tlearn: 0.5097095\ttotal: 26.5s\tremaining: 4m 34s\n",
            "88:\tlearn: 0.5091419\ttotal: 26.8s\tremaining: 4m 34s\n",
            "89:\tlearn: 0.5080241\ttotal: 27s\tremaining: 4m 33s\n",
            "90:\tlearn: 0.5075314\ttotal: 27.4s\tremaining: 4m 33s\n",
            "91:\tlearn: 0.5069084\ttotal: 27.6s\tremaining: 4m 32s\n",
            "92:\tlearn: 0.5060617\ttotal: 27.8s\tremaining: 4m 31s\n",
            "93:\tlearn: 0.5055494\ttotal: 28s\tremaining: 4m 29s\n",
            "94:\tlearn: 0.5051804\ttotal: 28.1s\tremaining: 4m 27s\n",
            "95:\tlearn: 0.5045066\ttotal: 28.2s\tremaining: 4m 25s\n",
            "96:\tlearn: 0.5041180\ttotal: 28.3s\tremaining: 4m 23s\n",
            "97:\tlearn: 0.5033032\ttotal: 28.4s\tremaining: 4m 21s\n",
            "98:\tlearn: 0.5027057\ttotal: 28.6s\tremaining: 4m 19s\n",
            "99:\tlearn: 0.5023488\ttotal: 28.7s\tremaining: 4m 18s\n",
            "100:\tlearn: 0.5017130\ttotal: 28.8s\tremaining: 4m 16s\n",
            "101:\tlearn: 0.5010805\ttotal: 28.9s\tremaining: 4m 14s\n",
            "102:\tlearn: 0.5004626\ttotal: 29s\tremaining: 4m 12s\n",
            "103:\tlearn: 0.4998222\ttotal: 29.1s\tremaining: 4m 11s\n",
            "104:\tlearn: 0.4993174\ttotal: 29.3s\tremaining: 4m 9s\n",
            "105:\tlearn: 0.4989657\ttotal: 29.4s\tremaining: 4m 7s\n",
            "106:\tlearn: 0.4980249\ttotal: 29.5s\tremaining: 4m 6s\n",
            "107:\tlearn: 0.4971226\ttotal: 29.6s\tremaining: 4m 4s\n",
            "108:\tlearn: 0.4962087\ttotal: 29.7s\tremaining: 4m 2s\n",
            "109:\tlearn: 0.4955218\ttotal: 29.8s\tremaining: 4m 1s\n",
            "110:\tlearn: 0.4950420\ttotal: 29.9s\tremaining: 3m 59s\n",
            "111:\tlearn: 0.4944102\ttotal: 30s\tremaining: 3m 58s\n",
            "112:\tlearn: 0.4937175\ttotal: 30.2s\tremaining: 3m 56s\n",
            "113:\tlearn: 0.4932473\ttotal: 30.3s\tremaining: 3m 55s\n",
            "114:\tlearn: 0.4927810\ttotal: 30.4s\tremaining: 3m 53s\n",
            "115:\tlearn: 0.4917625\ttotal: 30.5s\tremaining: 3m 52s\n",
            "116:\tlearn: 0.4910326\ttotal: 30.6s\tremaining: 3m 51s\n",
            "117:\tlearn: 0.4903134\ttotal: 30.7s\tremaining: 3m 49s\n",
            "118:\tlearn: 0.4892232\ttotal: 30.8s\tremaining: 3m 48s\n",
            "119:\tlearn: 0.4884781\ttotal: 31s\tremaining: 3m 47s\n",
            "120:\tlearn: 0.4882164\ttotal: 31.1s\tremaining: 3m 45s\n",
            "121:\tlearn: 0.4876821\ttotal: 31.2s\tremaining: 3m 44s\n",
            "122:\tlearn: 0.4868178\ttotal: 31.3s\tremaining: 3m 43s\n",
            "123:\tlearn: 0.4864368\ttotal: 31.4s\tremaining: 3m 41s\n",
            "124:\tlearn: 0.4857600\ttotal: 31.5s\tremaining: 3m 40s\n",
            "125:\tlearn: 0.4854262\ttotal: 31.6s\tremaining: 3m 39s\n",
            "126:\tlearn: 0.4849208\ttotal: 31.8s\tremaining: 3m 38s\n",
            "127:\tlearn: 0.4843384\ttotal: 31.9s\tremaining: 3m 37s\n",
            "128:\tlearn: 0.4834849\ttotal: 32s\tremaining: 3m 36s\n",
            "129:\tlearn: 0.4833129\ttotal: 32.1s\tremaining: 3m 34s\n",
            "130:\tlearn: 0.4828049\ttotal: 32.2s\tremaining: 3m 33s\n",
            "131:\tlearn: 0.4821726\ttotal: 32.3s\tremaining: 3m 32s\n",
            "132:\tlearn: 0.4816804\ttotal: 32.5s\tremaining: 3m 31s\n",
            "133:\tlearn: 0.4810824\ttotal: 32.6s\tremaining: 3m 30s\n",
            "134:\tlearn: 0.4804407\ttotal: 32.7s\tremaining: 3m 29s\n",
            "135:\tlearn: 0.4797451\ttotal: 32.8s\tremaining: 3m 28s\n",
            "136:\tlearn: 0.4792215\ttotal: 32.9s\tremaining: 3m 27s\n",
            "137:\tlearn: 0.4787945\ttotal: 33s\tremaining: 3m 26s\n",
            "138:\tlearn: 0.4785386\ttotal: 33.1s\tremaining: 3m 25s\n",
            "139:\tlearn: 0.4777425\ttotal: 33.3s\tremaining: 3m 24s\n",
            "140:\tlearn: 0.4773256\ttotal: 33.4s\tremaining: 3m 23s\n",
            "141:\tlearn: 0.4768818\ttotal: 33.5s\tremaining: 3m 22s\n",
            "142:\tlearn: 0.4762560\ttotal: 33.7s\tremaining: 3m 22s\n",
            "143:\tlearn: 0.4756685\ttotal: 34s\tremaining: 3m 22s\n",
            "144:\tlearn: 0.4750412\ttotal: 34.3s\tremaining: 3m 21s\n",
            "145:\tlearn: 0.4740281\ttotal: 34.5s\tremaining: 3m 21s\n",
            "146:\tlearn: 0.4736130\ttotal: 34.8s\tremaining: 3m 21s\n",
            "147:\tlearn: 0.4732857\ttotal: 35s\tremaining: 3m 21s\n",
            "148:\tlearn: 0.4728043\ttotal: 35.3s\tremaining: 3m 21s\n",
            "149:\tlearn: 0.4716407\ttotal: 35.6s\tremaining: 3m 21s\n",
            "150:\tlearn: 0.4711270\ttotal: 35.8s\tremaining: 3m 21s\n",
            "151:\tlearn: 0.4708091\ttotal: 36.1s\tremaining: 3m 21s\n",
            "152:\tlearn: 0.4701663\ttotal: 36.3s\tremaining: 3m 21s\n",
            "153:\tlearn: 0.4698441\ttotal: 36.6s\tremaining: 3m 21s\n",
            "154:\tlearn: 0.4695002\ttotal: 37s\tremaining: 3m 21s\n",
            "155:\tlearn: 0.4692556\ttotal: 37.3s\tremaining: 3m 22s\n",
            "156:\tlearn: 0.4685322\ttotal: 37.6s\tremaining: 3m 22s\n",
            "157:\tlearn: 0.4680914\ttotal: 37.9s\tremaining: 3m 21s\n",
            "158:\tlearn: 0.4678773\ttotal: 38.1s\tremaining: 3m 21s\n",
            "159:\tlearn: 0.4674018\ttotal: 38.6s\tremaining: 3m 22s\n",
            "160:\tlearn: 0.4670971\ttotal: 38.8s\tremaining: 3m 21s\n",
            "161:\tlearn: 0.4664035\ttotal: 38.9s\tremaining: 3m 21s\n",
            "162:\tlearn: 0.4659257\ttotal: 39s\tremaining: 3m 20s\n",
            "163:\tlearn: 0.4655186\ttotal: 39.2s\tremaining: 3m 19s\n",
            "164:\tlearn: 0.4648119\ttotal: 39.3s\tremaining: 3m 18s\n",
            "165:\tlearn: 0.4643040\ttotal: 39.4s\tremaining: 3m 17s\n",
            "166:\tlearn: 0.4636423\ttotal: 39.5s\tremaining: 3m 17s\n",
            "167:\tlearn: 0.4631621\ttotal: 39.6s\tremaining: 3m 16s\n",
            "168:\tlearn: 0.4629057\ttotal: 39.7s\tremaining: 3m 15s\n",
            "169:\tlearn: 0.4624182\ttotal: 39.8s\tremaining: 3m 14s\n",
            "170:\tlearn: 0.4619776\ttotal: 39.9s\tremaining: 3m 13s\n",
            "171:\tlearn: 0.4615871\ttotal: 40.1s\tremaining: 3m 12s\n",
            "172:\tlearn: 0.4610684\ttotal: 40.2s\tremaining: 3m 12s\n",
            "173:\tlearn: 0.4601241\ttotal: 40.3s\tremaining: 3m 11s\n",
            "174:\tlearn: 0.4594414\ttotal: 40.4s\tremaining: 3m 10s\n",
            "175:\tlearn: 0.4592003\ttotal: 40.5s\tremaining: 3m 9s\n",
            "176:\tlearn: 0.4585692\ttotal: 40.6s\tremaining: 3m 8s\n",
            "177:\tlearn: 0.4579741\ttotal: 40.8s\tremaining: 3m 8s\n",
            "178:\tlearn: 0.4567835\ttotal: 40.9s\tremaining: 3m 7s\n",
            "179:\tlearn: 0.4561217\ttotal: 41s\tremaining: 3m 6s\n",
            "180:\tlearn: 0.4555470\ttotal: 41.1s\tremaining: 3m 5s\n",
            "181:\tlearn: 0.4548432\ttotal: 41.2s\tremaining: 3m 5s\n",
            "182:\tlearn: 0.4543201\ttotal: 41.3s\tremaining: 3m 4s\n",
            "183:\tlearn: 0.4540381\ttotal: 41.4s\tremaining: 3m 3s\n",
            "184:\tlearn: 0.4536543\ttotal: 41.6s\tremaining: 3m 3s\n",
            "185:\tlearn: 0.4532072\ttotal: 41.7s\tremaining: 3m 2s\n",
            "186:\tlearn: 0.4529506\ttotal: 41.8s\tremaining: 3m 1s\n",
            "187:\tlearn: 0.4524020\ttotal: 41.9s\tremaining: 3m\n",
            "188:\tlearn: 0.4520216\ttotal: 42s\tremaining: 3m\n",
            "189:\tlearn: 0.4513050\ttotal: 42.1s\tremaining: 2m 59s\n",
            "190:\tlearn: 0.4511070\ttotal: 42.2s\tremaining: 2m 58s\n",
            "191:\tlearn: 0.4507008\ttotal: 42.3s\tremaining: 2m 58s\n",
            "192:\tlearn: 0.4503501\ttotal: 42.5s\tremaining: 2m 57s\n",
            "193:\tlearn: 0.4499283\ttotal: 42.6s\tremaining: 2m 56s\n",
            "194:\tlearn: 0.4494336\ttotal: 42.7s\tremaining: 2m 56s\n",
            "195:\tlearn: 0.4487277\ttotal: 42.8s\tremaining: 2m 55s\n",
            "196:\tlearn: 0.4485702\ttotal: 42.9s\tremaining: 2m 54s\n",
            "197:\tlearn: 0.4483950\ttotal: 43s\tremaining: 2m 54s\n",
            "198:\tlearn: 0.4477171\ttotal: 43.1s\tremaining: 2m 53s\n",
            "199:\tlearn: 0.4468448\ttotal: 43.3s\tremaining: 2m 53s\n",
            "200:\tlearn: 0.4461338\ttotal: 43.4s\tremaining: 2m 52s\n",
            "201:\tlearn: 0.4459446\ttotal: 43.5s\tremaining: 2m 51s\n",
            "202:\tlearn: 0.4455520\ttotal: 43.6s\tremaining: 2m 51s\n",
            "203:\tlearn: 0.4451052\ttotal: 43.7s\tremaining: 2m 50s\n",
            "204:\tlearn: 0.4447617\ttotal: 43.8s\tremaining: 2m 49s\n",
            "205:\tlearn: 0.4442693\ttotal: 43.9s\tremaining: 2m 49s\n",
            "206:\tlearn: 0.4440425\ttotal: 44.1s\tremaining: 2m 48s\n",
            "207:\tlearn: 0.4436959\ttotal: 44.2s\tremaining: 2m 48s\n",
            "208:\tlearn: 0.4435170\ttotal: 44.3s\tremaining: 2m 47s\n",
            "209:\tlearn: 0.4431744\ttotal: 44.4s\tremaining: 2m 46s\n",
            "210:\tlearn: 0.4429444\ttotal: 44.5s\tremaining: 2m 46s\n",
            "211:\tlearn: 0.4423917\ttotal: 44.6s\tremaining: 2m 45s\n",
            "212:\tlearn: 0.4418996\ttotal: 44.7s\tremaining: 2m 45s\n",
            "213:\tlearn: 0.4415976\ttotal: 44.8s\tremaining: 2m 44s\n",
            "214:\tlearn: 0.4414226\ttotal: 44.9s\tremaining: 2m 44s\n",
            "215:\tlearn: 0.4410531\ttotal: 45.1s\tremaining: 2m 43s\n",
            "216:\tlearn: 0.4404605\ttotal: 45.2s\tremaining: 2m 42s\n",
            "217:\tlearn: 0.4398761\ttotal: 45.3s\tremaining: 2m 42s\n",
            "218:\tlearn: 0.4395101\ttotal: 45.4s\tremaining: 2m 41s\n",
            "219:\tlearn: 0.4391601\ttotal: 45.5s\tremaining: 2m 41s\n",
            "220:\tlearn: 0.4388548\ttotal: 45.6s\tremaining: 2m 40s\n",
            "221:\tlearn: 0.4384682\ttotal: 45.7s\tremaining: 2m 40s\n",
            "222:\tlearn: 0.4379707\ttotal: 45.9s\tremaining: 2m 39s\n",
            "223:\tlearn: 0.4374080\ttotal: 46s\tremaining: 2m 39s\n",
            "224:\tlearn: 0.4369933\ttotal: 46.1s\tremaining: 2m 38s\n",
            "225:\tlearn: 0.4365752\ttotal: 46.2s\tremaining: 2m 38s\n",
            "226:\tlearn: 0.4361107\ttotal: 46.3s\tremaining: 2m 37s\n",
            "227:\tlearn: 0.4357767\ttotal: 46.4s\tremaining: 2m 37s\n",
            "228:\tlearn: 0.4352271\ttotal: 46.5s\tremaining: 2m 36s\n",
            "229:\tlearn: 0.4346500\ttotal: 46.7s\tremaining: 2m 36s\n",
            "230:\tlearn: 0.4340235\ttotal: 46.8s\tremaining: 2m 35s\n",
            "231:\tlearn: 0.4334114\ttotal: 46.9s\tremaining: 2m 35s\n",
            "232:\tlearn: 0.4328492\ttotal: 47s\tremaining: 2m 34s\n",
            "233:\tlearn: 0.4325428\ttotal: 47.3s\tremaining: 2m 34s\n",
            "234:\tlearn: 0.4318472\ttotal: 47.5s\tremaining: 2m 34s\n",
            "235:\tlearn: 0.4313510\ttotal: 47.8s\tremaining: 2m 34s\n",
            "236:\tlearn: 0.4309718\ttotal: 48.1s\tremaining: 2m 34s\n",
            "237:\tlearn: 0.4306618\ttotal: 48.5s\tremaining: 2m 35s\n",
            "238:\tlearn: 0.4301972\ttotal: 49s\tremaining: 2m 35s\n",
            "239:\tlearn: 0.4300361\ttotal: 49.4s\tremaining: 2m 36s\n",
            "240:\tlearn: 0.4298842\ttotal: 49.8s\tremaining: 2m 36s\n",
            "241:\tlearn: 0.4293241\ttotal: 50.2s\tremaining: 2m 37s\n",
            "242:\tlearn: 0.4288738\ttotal: 50.7s\tremaining: 2m 38s\n",
            "243:\tlearn: 0.4287242\ttotal: 51.1s\tremaining: 2m 38s\n",
            "244:\tlearn: 0.4282809\ttotal: 51.6s\tremaining: 2m 38s\n",
            "245:\tlearn: 0.4278415\ttotal: 52s\tremaining: 2m 39s\n",
            "246:\tlearn: 0.4275976\ttotal: 52.3s\tremaining: 2m 39s\n",
            "247:\tlearn: 0.4272347\ttotal: 52.6s\tremaining: 2m 39s\n",
            "248:\tlearn: 0.4269435\ttotal: 52.8s\tremaining: 2m 39s\n",
            "249:\tlearn: 0.4266490\ttotal: 53.2s\tremaining: 2m 39s\n",
            "250:\tlearn: 0.4260238\ttotal: 53.5s\tremaining: 2m 39s\n",
            "251:\tlearn: 0.4258128\ttotal: 53.7s\tremaining: 2m 39s\n",
            "252:\tlearn: 0.4254005\ttotal: 54.1s\tremaining: 2m 39s\n",
            "253:\tlearn: 0.4251777\ttotal: 54.4s\tremaining: 2m 39s\n",
            "254:\tlearn: 0.4251039\ttotal: 54.7s\tremaining: 2m 39s\n",
            "255:\tlearn: 0.4248888\ttotal: 55s\tremaining: 2m 39s\n",
            "256:\tlearn: 0.4246987\ttotal: 55.2s\tremaining: 2m 39s\n",
            "257:\tlearn: 0.4244035\ttotal: 55.4s\tremaining: 2m 39s\n",
            "258:\tlearn: 0.4241409\ttotal: 55.6s\tremaining: 2m 39s\n",
            "259:\tlearn: 0.4238284\ttotal: 55.9s\tremaining: 2m 39s\n",
            "260:\tlearn: 0.4233337\ttotal: 56.2s\tremaining: 2m 38s\n",
            "261:\tlearn: 0.4229546\ttotal: 56.4s\tremaining: 2m 38s\n",
            "262:\tlearn: 0.4223748\ttotal: 56.7s\tremaining: 2m 38s\n",
            "263:\tlearn: 0.4220471\ttotal: 57s\tremaining: 2m 38s\n",
            "264:\tlearn: 0.4215961\ttotal: 57.3s\tremaining: 2m 38s\n",
            "265:\tlearn: 0.4212213\ttotal: 57.5s\tremaining: 2m 38s\n",
            "266:\tlearn: 0.4209734\ttotal: 57.9s\tremaining: 2m 38s\n"
          ]
        },
        {
          "output_type": "error",
          "ename": "KeyboardInterrupt",
          "evalue": "ignored",
          "traceback": [
            "\u001b[0;31m---------------------------------------------------------------------------\u001b[0m",
            "\u001b[0;31mKeyboardInterrupt\u001b[0m                         Traceback (most recent call last)",
            "\u001b[0;32m<ipython-input-27-b5134e3828e2>\u001b[0m in \u001b[0;36m<module>\u001b[0;34m\u001b[0m\n\u001b[1;32m      2\u001b[0m \u001b[0;34m\u001b[0m\u001b[0m\n\u001b[1;32m      3\u001b[0m \u001b[0mmodel\u001b[0m \u001b[0;34m=\u001b[0m \u001b[0mCatBoostClassifier\u001b[0m\u001b[0;34m(\u001b[0m\u001b[0;34m)\u001b[0m\u001b[0;34m\u001b[0m\u001b[0;34m\u001b[0m\u001b[0m\n\u001b[0;32m----> 4\u001b[0;31m \u001b[0mmodel\u001b[0m\u001b[0;34m.\u001b[0m\u001b[0mfit\u001b[0m\u001b[0;34m(\u001b[0m\u001b[0mX\u001b[0m \u001b[0;34m=\u001b[0m \u001b[0mX_train\u001b[0m\u001b[0;34m,\u001b[0m \u001b[0my\u001b[0m \u001b[0;34m=\u001b[0m \u001b[0my_train\u001b[0m\u001b[0;34m)\u001b[0m\u001b[0;34m\u001b[0m\u001b[0;34m\u001b[0m\u001b[0m\n\u001b[0m\u001b[1;32m      5\u001b[0m \u001b[0;34m\u001b[0m\u001b[0m\n\u001b[1;32m      6\u001b[0m cat_imp = pd.Series(model.get_feature_importance(),\n",
            "\u001b[0;32m/usr/local/lib/python3.8/dist-packages/catboost/core.py\u001b[0m in \u001b[0;36mfit\u001b[0;34m(self, X, y, cat_features, text_features, embedding_features, sample_weight, baseline, use_best_model, eval_set, verbose, logging_level, plot, plot_file, column_description, verbose_eval, metric_period, silent, early_stopping_rounds, save_snapshot, snapshot_file, snapshot_interval, init_model, callbacks, log_cout, log_cerr)\u001b[0m\n\u001b[1;32m   5126\u001b[0m             \u001b[0mCatBoostClassifier\u001b[0m\u001b[0;34m.\u001b[0m\u001b[0m_check_is_compatible_loss\u001b[0m\u001b[0;34m(\u001b[0m\u001b[0mparams\u001b[0m\u001b[0;34m[\u001b[0m\u001b[0;34m'loss_function'\u001b[0m\u001b[0;34m]\u001b[0m\u001b[0;34m)\u001b[0m\u001b[0;34m\u001b[0m\u001b[0;34m\u001b[0m\u001b[0m\n\u001b[1;32m   5127\u001b[0m \u001b[0;34m\u001b[0m\u001b[0m\n\u001b[0;32m-> 5128\u001b[0;31m         self._fit(X, y, cat_features, text_features, embedding_features, None, sample_weight, None, None, None, None, baseline, use_best_model,\n\u001b[0m\u001b[1;32m   5129\u001b[0m                   \u001b[0meval_set\u001b[0m\u001b[0;34m,\u001b[0m \u001b[0mverbose\u001b[0m\u001b[0;34m,\u001b[0m \u001b[0mlogging_level\u001b[0m\u001b[0;34m,\u001b[0m \u001b[0mplot\u001b[0m\u001b[0;34m,\u001b[0m \u001b[0mplot_file\u001b[0m\u001b[0;34m,\u001b[0m \u001b[0mcolumn_description\u001b[0m\u001b[0;34m,\u001b[0m \u001b[0mverbose_eval\u001b[0m\u001b[0;34m,\u001b[0m \u001b[0mmetric_period\u001b[0m\u001b[0;34m,\u001b[0m\u001b[0;34m\u001b[0m\u001b[0;34m\u001b[0m\u001b[0m\n\u001b[1;32m   5130\u001b[0m                   silent, early_stopping_rounds, save_snapshot, snapshot_file, snapshot_interval, init_model, callbacks, log_cout, log_cerr)\n",
            "\u001b[0;32m/usr/local/lib/python3.8/dist-packages/catboost/core.py\u001b[0m in \u001b[0;36m_fit\u001b[0;34m(self, X, y, cat_features, text_features, embedding_features, pairs, sample_weight, group_id, group_weight, subgroup_id, pairs_weight, baseline, use_best_model, eval_set, verbose, logging_level, plot, plot_file, column_description, verbose_eval, metric_period, silent, early_stopping_rounds, save_snapshot, snapshot_file, snapshot_interval, init_model, callbacks, log_cout, log_cerr)\u001b[0m\n\u001b[1;32m   2353\u001b[0m         \u001b[0;32mwith\u001b[0m \u001b[0mlog_fixup\u001b[0m\u001b[0;34m(\u001b[0m\u001b[0mlog_cout\u001b[0m\u001b[0;34m,\u001b[0m \u001b[0mlog_cerr\u001b[0m\u001b[0;34m)\u001b[0m\u001b[0;34m,\u001b[0m\u001b[0;31m \u001b[0m\u001b[0;31m\\\u001b[0m\u001b[0;34m\u001b[0m\u001b[0;34m\u001b[0m\u001b[0m\n\u001b[1;32m   2354\u001b[0m             \u001b[0mplot_wrapper\u001b[0m\u001b[0;34m(\u001b[0m\u001b[0mplot\u001b[0m\u001b[0;34m,\u001b[0m \u001b[0mplot_file\u001b[0m\u001b[0;34m,\u001b[0m \u001b[0;34m'Training plots'\u001b[0m\u001b[0;34m,\u001b[0m \u001b[0;34m[\u001b[0m\u001b[0m_get_train_dir\u001b[0m\u001b[0;34m(\u001b[0m\u001b[0mself\u001b[0m\u001b[0;34m.\u001b[0m\u001b[0mget_params\u001b[0m\u001b[0;34m(\u001b[0m\u001b[0;34m)\u001b[0m\u001b[0;34m)\u001b[0m\u001b[0;34m]\u001b[0m\u001b[0;34m)\u001b[0m\u001b[0;34m:\u001b[0m\u001b[0;34m\u001b[0m\u001b[0;34m\u001b[0m\u001b[0m\n\u001b[0;32m-> 2355\u001b[0;31m             self._train(\n\u001b[0m\u001b[1;32m   2356\u001b[0m                 \u001b[0mtrain_pool\u001b[0m\u001b[0;34m,\u001b[0m\u001b[0;34m\u001b[0m\u001b[0;34m\u001b[0m\u001b[0m\n\u001b[1;32m   2357\u001b[0m                 \u001b[0mtrain_params\u001b[0m\u001b[0;34m[\u001b[0m\u001b[0;34m\"eval_sets\"\u001b[0m\u001b[0;34m]\u001b[0m\u001b[0;34m,\u001b[0m\u001b[0;34m\u001b[0m\u001b[0;34m\u001b[0m\u001b[0m\n",
            "\u001b[0;32m/usr/local/lib/python3.8/dist-packages/catboost/core.py\u001b[0m in \u001b[0;36m_train\u001b[0;34m(self, train_pool, test_pool, params, allow_clear_pool, init_model)\u001b[0m\n\u001b[1;32m   1757\u001b[0m \u001b[0;34m\u001b[0m\u001b[0m\n\u001b[1;32m   1758\u001b[0m     \u001b[0;32mdef\u001b[0m \u001b[0m_train\u001b[0m\u001b[0;34m(\u001b[0m\u001b[0mself\u001b[0m\u001b[0;34m,\u001b[0m \u001b[0mtrain_pool\u001b[0m\u001b[0;34m,\u001b[0m \u001b[0mtest_pool\u001b[0m\u001b[0;34m,\u001b[0m \u001b[0mparams\u001b[0m\u001b[0;34m,\u001b[0m \u001b[0mallow_clear_pool\u001b[0m\u001b[0;34m,\u001b[0m \u001b[0minit_model\u001b[0m\u001b[0;34m)\u001b[0m\u001b[0;34m:\u001b[0m\u001b[0;34m\u001b[0m\u001b[0;34m\u001b[0m\u001b[0m\n\u001b[0;32m-> 1759\u001b[0;31m         \u001b[0mself\u001b[0m\u001b[0;34m.\u001b[0m\u001b[0m_object\u001b[0m\u001b[0;34m.\u001b[0m\u001b[0m_train\u001b[0m\u001b[0;34m(\u001b[0m\u001b[0mtrain_pool\u001b[0m\u001b[0;34m,\u001b[0m \u001b[0mtest_pool\u001b[0m\u001b[0;34m,\u001b[0m \u001b[0mparams\u001b[0m\u001b[0;34m,\u001b[0m \u001b[0mallow_clear_pool\u001b[0m\u001b[0;34m,\u001b[0m \u001b[0minit_model\u001b[0m\u001b[0;34m.\u001b[0m\u001b[0m_object\u001b[0m \u001b[0;32mif\u001b[0m \u001b[0minit_model\u001b[0m \u001b[0;32melse\u001b[0m \u001b[0;32mNone\u001b[0m\u001b[0;34m)\u001b[0m\u001b[0;34m\u001b[0m\u001b[0;34m\u001b[0m\u001b[0m\n\u001b[0m\u001b[1;32m   1760\u001b[0m         \u001b[0mself\u001b[0m\u001b[0;34m.\u001b[0m\u001b[0m_set_trained_model_attributes\u001b[0m\u001b[0;34m(\u001b[0m\u001b[0;34m)\u001b[0m\u001b[0;34m\u001b[0m\u001b[0;34m\u001b[0m\u001b[0m\n\u001b[1;32m   1761\u001b[0m \u001b[0;34m\u001b[0m\u001b[0m\n",
            "\u001b[0;32m_catboost.pyx\u001b[0m in \u001b[0;36m_catboost._CatBoost._train\u001b[0;34m()\u001b[0m\n",
            "\u001b[0;32m_catboost.pyx\u001b[0m in \u001b[0;36m_catboost._CatBoost._train\u001b[0;34m()\u001b[0m\n",
            "\u001b[0;31mKeyboardInterrupt\u001b[0m: "
          ]
        }
      ]
    },
    {
      "cell_type": "code",
      "source": [
        "parameters = {'learning_rate': [0.03, 0.1],\n",
        "              'depth': [4, 6, 10],\n",
        "              'l2_leaf_reg': [1, 3, 5, 7, 9]\n",
        "              }\n",
        "              \n",
        "grid = GridSearchCV(CatBoostClassifier(),parameters)\n",
        "\n",
        "model = grid.fit(X_train, y_train)\n",
        "  \n",
        "print(model.best_params_,'\\n')\n",
        "print(model.best_estimator_,'\\n')\n",
        "\n",
        "model.best_estimator_.fit(X_train, y_train)\n",
        "  \n",
        "y_pred = model.best_estimator_.predict(X_test)"
      ],
      "metadata": {
        "id": "2BJJyj73f3Rh"
      },
      "execution_count": null,
      "outputs": []
    }
  ]
}